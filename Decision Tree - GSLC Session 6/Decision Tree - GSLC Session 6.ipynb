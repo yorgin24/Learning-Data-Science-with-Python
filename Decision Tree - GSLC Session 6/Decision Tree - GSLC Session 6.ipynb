{
 "cells": [
  {
   "cell_type": "markdown",
   "id": "e6847b42",
   "metadata": {},
   "source": [
    "<h1> Import Library </h1>"
   ]
  },
  {
   "cell_type": "code",
   "execution_count": 1,
   "id": "68474e75",
   "metadata": {},
   "outputs": [],
   "source": [
    "import pandas as pd\n",
    "from sklearn.tree import DecisionTreeClassifier # Import Decision Tree Classifier\n",
    "from sklearn.model_selection import train_test_split # Import train_test_split function\n",
    "from sklearn import metrics #Import scikit-learn metrics module for accuracy calculation"
   ]
  },
  {
   "cell_type": "markdown",
   "id": "c7990730",
   "metadata": {},
   "source": [
    "<h1>Load Dataset</h1>"
   ]
  },
  {
   "cell_type": "code",
   "execution_count": 5,
   "id": "8c6b204f",
   "metadata": {
    "scrolled": false
   },
   "outputs": [
    {
     "data": {
      "text/html": [
       "<div>\n",
       "<style scoped>\n",
       "    .dataframe tbody tr th:only-of-type {\n",
       "        vertical-align: middle;\n",
       "    }\n",
       "\n",
       "    .dataframe tbody tr th {\n",
       "        vertical-align: top;\n",
       "    }\n",
       "\n",
       "    .dataframe thead th {\n",
       "        text-align: right;\n",
       "    }\n",
       "</style>\n",
       "<table border=\"1\" class=\"dataframe\">\n",
       "  <thead>\n",
       "    <tr style=\"text-align: right;\">\n",
       "      <th></th>\n",
       "      <th>department</th>\n",
       "      <th>status</th>\n",
       "      <th>usia</th>\n",
       "      <th>gaji</th>\n",
       "      <th>jumlah</th>\n",
       "    </tr>\n",
       "  </thead>\n",
       "  <tbody>\n",
       "    <tr>\n",
       "      <th>0</th>\n",
       "      <td>sales</td>\n",
       "      <td>senior</td>\n",
       "      <td>31-35</td>\n",
       "      <td>46K-50K</td>\n",
       "      <td>30</td>\n",
       "    </tr>\n",
       "    <tr>\n",
       "      <th>1</th>\n",
       "      <td>sales</td>\n",
       "      <td>junior</td>\n",
       "      <td>26-30</td>\n",
       "      <td>26K-30K</td>\n",
       "      <td>40</td>\n",
       "    </tr>\n",
       "    <tr>\n",
       "      <th>2</th>\n",
       "      <td>sales</td>\n",
       "      <td>junior</td>\n",
       "      <td>31-35</td>\n",
       "      <td>31K-35K</td>\n",
       "      <td>40</td>\n",
       "    </tr>\n",
       "    <tr>\n",
       "      <th>3</th>\n",
       "      <td>systems</td>\n",
       "      <td>junior</td>\n",
       "      <td>21-25</td>\n",
       "      <td>46K-50K</td>\n",
       "      <td>20</td>\n",
       "    </tr>\n",
       "    <tr>\n",
       "      <th>4</th>\n",
       "      <td>systems</td>\n",
       "      <td>senior</td>\n",
       "      <td>31-35</td>\n",
       "      <td>66K-70K</td>\n",
       "      <td>5</td>\n",
       "    </tr>\n",
       "    <tr>\n",
       "      <th>5</th>\n",
       "      <td>systems</td>\n",
       "      <td>junior</td>\n",
       "      <td>26-30</td>\n",
       "      <td>46K-50K</td>\n",
       "      <td>3</td>\n",
       "    </tr>\n",
       "    <tr>\n",
       "      <th>6</th>\n",
       "      <td>systems</td>\n",
       "      <td>senior</td>\n",
       "      <td>41-45</td>\n",
       "      <td>66K-70K</td>\n",
       "      <td>3</td>\n",
       "    </tr>\n",
       "    <tr>\n",
       "      <th>7</th>\n",
       "      <td>marketing</td>\n",
       "      <td>senior</td>\n",
       "      <td>36-40</td>\n",
       "      <td>46K-50K</td>\n",
       "      <td>10</td>\n",
       "    </tr>\n",
       "    <tr>\n",
       "      <th>8</th>\n",
       "      <td>marketing</td>\n",
       "      <td>junior</td>\n",
       "      <td>31-35</td>\n",
       "      <td>41K-45K</td>\n",
       "      <td>4</td>\n",
       "    </tr>\n",
       "    <tr>\n",
       "      <th>9</th>\n",
       "      <td>secretary</td>\n",
       "      <td>senior</td>\n",
       "      <td>46-50</td>\n",
       "      <td>36K-40K</td>\n",
       "      <td>4</td>\n",
       "    </tr>\n",
       "    <tr>\n",
       "      <th>10</th>\n",
       "      <td>secretary</td>\n",
       "      <td>junior</td>\n",
       "      <td>26-30</td>\n",
       "      <td>26K-30K</td>\n",
       "      <td>6</td>\n",
       "    </tr>\n",
       "  </tbody>\n",
       "</table>\n",
       "</div>"
      ],
      "text/plain": [
       "   department  status   usia     gaji  jumlah\n",
       "0       sales  senior  31-35  46K-50K      30\n",
       "1       sales  junior  26-30  26K-30K      40\n",
       "2       sales  junior  31-35  31K-35K      40\n",
       "3     systems  junior  21-25  46K-50K      20\n",
       "4     systems  senior  31-35  66K-70K       5\n",
       "5     systems  junior  26-30  46K-50K       3\n",
       "6     systems  senior  41-45  66K-70K       3\n",
       "7   marketing  senior  36-40  46K-50K      10\n",
       "8   marketing  junior  31-35  41K-45K       4\n",
       "9   secretary  senior  46-50  36K-40K       4\n",
       "10  secretary  junior  26-30  26K-30K       6"
      ]
     },
     "execution_count": 5,
     "metadata": {},
     "output_type": "execute_result"
    }
   ],
   "source": [
    "col_names = ['department', 'status', 'usia', 'gaji', 'jumlah']\n",
    "dataKaryawan = pd.read_csv(\"dataKaryawan.csv\", header=None, names = col_names)\n",
    "dataKaryawan"
   ]
  },
  {
   "cell_type": "markdown",
   "id": "b44702a2",
   "metadata": {},
   "source": [
    "<h1>Data Transformation</h1>"
   ]
  },
  {
   "cell_type": "code",
   "execution_count": 7,
   "id": "7ed7a9cb",
   "metadata": {},
   "outputs": [
    {
     "data": {
      "text/html": [
       "<div>\n",
       "<style scoped>\n",
       "    .dataframe tbody tr th:only-of-type {\n",
       "        vertical-align: middle;\n",
       "    }\n",
       "\n",
       "    .dataframe tbody tr th {\n",
       "        vertical-align: top;\n",
       "    }\n",
       "\n",
       "    .dataframe thead th {\n",
       "        text-align: right;\n",
       "    }\n",
       "</style>\n",
       "<table border=\"1\" class=\"dataframe\">\n",
       "  <thead>\n",
       "    <tr style=\"text-align: right;\">\n",
       "      <th></th>\n",
       "      <th>department</th>\n",
       "      <th>status</th>\n",
       "      <th>usia</th>\n",
       "      <th>gaji</th>\n",
       "      <th>jumlah</th>\n",
       "    </tr>\n",
       "  </thead>\n",
       "  <tbody>\n",
       "    <tr>\n",
       "      <th>0</th>\n",
       "      <td>4</td>\n",
       "      <td>1</td>\n",
       "      <td>4</td>\n",
       "      <td>2</td>\n",
       "      <td>30</td>\n",
       "    </tr>\n",
       "    <tr>\n",
       "      <th>1</th>\n",
       "      <td>4</td>\n",
       "      <td>2</td>\n",
       "      <td>5</td>\n",
       "      <td>6</td>\n",
       "      <td>40</td>\n",
       "    </tr>\n",
       "    <tr>\n",
       "      <th>2</th>\n",
       "      <td>4</td>\n",
       "      <td>2</td>\n",
       "      <td>4</td>\n",
       "      <td>5</td>\n",
       "      <td>40</td>\n",
       "    </tr>\n",
       "    <tr>\n",
       "      <th>3</th>\n",
       "      <td>3</td>\n",
       "      <td>2</td>\n",
       "      <td>6</td>\n",
       "      <td>2</td>\n",
       "      <td>20</td>\n",
       "    </tr>\n",
       "    <tr>\n",
       "      <th>4</th>\n",
       "      <td>3</td>\n",
       "      <td>1</td>\n",
       "      <td>4</td>\n",
       "      <td>1</td>\n",
       "      <td>5</td>\n",
       "    </tr>\n",
       "    <tr>\n",
       "      <th>5</th>\n",
       "      <td>3</td>\n",
       "      <td>2</td>\n",
       "      <td>5</td>\n",
       "      <td>2</td>\n",
       "      <td>3</td>\n",
       "    </tr>\n",
       "    <tr>\n",
       "      <th>6</th>\n",
       "      <td>3</td>\n",
       "      <td>1</td>\n",
       "      <td>2</td>\n",
       "      <td>1</td>\n",
       "      <td>3</td>\n",
       "    </tr>\n",
       "    <tr>\n",
       "      <th>7</th>\n",
       "      <td>2</td>\n",
       "      <td>1</td>\n",
       "      <td>3</td>\n",
       "      <td>2</td>\n",
       "      <td>10</td>\n",
       "    </tr>\n",
       "    <tr>\n",
       "      <th>8</th>\n",
       "      <td>2</td>\n",
       "      <td>2</td>\n",
       "      <td>4</td>\n",
       "      <td>3</td>\n",
       "      <td>4</td>\n",
       "    </tr>\n",
       "    <tr>\n",
       "      <th>9</th>\n",
       "      <td>1</td>\n",
       "      <td>1</td>\n",
       "      <td>1</td>\n",
       "      <td>4</td>\n",
       "      <td>4</td>\n",
       "    </tr>\n",
       "    <tr>\n",
       "      <th>10</th>\n",
       "      <td>1</td>\n",
       "      <td>2</td>\n",
       "      <td>5</td>\n",
       "      <td>6</td>\n",
       "      <td>6</td>\n",
       "    </tr>\n",
       "  </tbody>\n",
       "</table>\n",
       "</div>"
      ],
      "text/plain": [
       "    department  status  usia  gaji  jumlah\n",
       "0            4       1     4     2      30\n",
       "1            4       2     5     6      40\n",
       "2            4       2     4     5      40\n",
       "3            3       2     6     2      20\n",
       "4            3       1     4     1       5\n",
       "5            3       2     5     2       3\n",
       "6            3       1     2     1       3\n",
       "7            2       1     3     2      10\n",
       "8            2       2     4     3       4\n",
       "9            1       1     1     4       4\n",
       "10           1       2     5     6       6"
      ]
     },
     "execution_count": 7,
     "metadata": {},
     "output_type": "execute_result"
    }
   ],
   "source": [
    "\n",
    "dataKaryawan['department'].replace({'secretary':1, 'marketing':2, 'systems':3, 'sales':4}, inplace=True)\n",
    "dataKaryawan['status'].replace({'senior':1, 'junior':2}, inplace=True)\n",
    "dataKaryawan['usia'].replace({'46-50':1, '41-45':2, '36-40':3, '31-35':4, '26-30':5, '21-25':6}, inplace=True)\n",
    "dataKaryawan['gaji'].replace({'66K-70K':1, '46K-50K':2, '41K-45K':3, '36K-40K':4, '31K-35K':5, '26K-30K':6}, inplace=True)\n",
    "dataKaryawan"
   ]
  },
  {
   "cell_type": "markdown",
   "id": "456e79f2",
   "metadata": {},
   "source": [
    "<h1>Feature Selection</h1>"
   ]
  },
  {
   "cell_type": "code",
   "execution_count": 10,
   "id": "57fb7dcb",
   "metadata": {},
   "outputs": [],
   "source": [
    "feature_cols = ['department', 'usia', 'gaji', 'jumlah']\n",
    "X = dataKaryawan[feature_cols] # Features\n",
    "y = dataKaryawan.status # Target variable"
   ]
  },
  {
   "cell_type": "markdown",
   "id": "0b735f22",
   "metadata": {},
   "source": [
    "<h1>Split Set</h1>"
   ]
  },
  {
   "cell_type": "code",
   "execution_count": 11,
   "id": "da7e3f75",
   "metadata": {},
   "outputs": [],
   "source": [
    "# Pisahkan dataset ke training set dan test set\n",
    "X_train, X_test, y_train, y_test = train_test_split(X, y, test_size=0.3, random_state=1) # 70% training dan 30% test"
   ]
  },
  {
   "cell_type": "markdown",
   "id": "ba28898b",
   "metadata": {},
   "source": [
    "<h1>Model</h1>"
   ]
  },
  {
   "cell_type": "code",
   "execution_count": 12,
   "id": "8ee0da49",
   "metadata": {},
   "outputs": [],
   "source": [
    "# Create Decision Tree classifer object\n",
    "clf = DecisionTreeClassifier()\n",
    "\n",
    "# Train Decision Tree Classifer\n",
    "clf = clf.fit(X_train,y_train)\n",
    "\n",
    "#Predict the response for test dataset\n",
    "y_pred = clf.predict(X_test)"
   ]
  },
  {
   "cell_type": "markdown",
   "id": "98372dc9",
   "metadata": {},
   "source": [
    "<h1>Metrics Accuracy</h1>"
   ]
  },
  {
   "cell_type": "code",
   "execution_count": 13,
   "id": "bcdfa6d5",
   "metadata": {},
   "outputs": [
    {
     "name": "stdout",
     "output_type": "stream",
     "text": [
      "Accuracy: 0.75\n"
     ]
    }
   ],
   "source": [
    "# Model Accuracy, how often is the classifier correct?\n",
    "print(\"Accuracy:\",metrics.accuracy_score(y_test, y_pred))"
   ]
  },
  {
   "cell_type": "markdown",
   "id": "00367af6",
   "metadata": {},
   "source": [
    "<h1>Visualization</h1>"
   ]
  },
  {
   "cell_type": "code",
   "execution_count": 15,
   "id": "99c993a3",
   "metadata": {},
   "outputs": [
    {
     "data": {
      "image/png": "[encoded data removed]",
      "text/plain": [
       "<IPython.core.display.Image object>"
      ]
     },
     "execution_count": 15,
     "metadata": {},
     "output_type": "execute_result"
    }
   ],
   "source": [
    "import pydotplus\n",
    "import matplotlib.image as mpimg\n",
    "from sklearn.tree import export_graphviz\n",
    "from IPython.display import Image\n",
    "\n",
    "dot_file = export_graphviz(clf, out_file=None,\n",
    "                           feature_names = ['department', 'usia', 'gaji', 'jumlah'], \n",
    "                           class_names = ['0','1'],\n",
    "                           rounded= True,filled =True)\n",
    "\n",
    "graph = pydotplus.graph_from_dot_data(dot_file) \n",
    "Image(graph.create_png())"
   ]
  }
 ],
 "metadata": {
  "kernelspec": {
   "display_name": "Python 3",
   "language": "python",
   "name": "python3"
  },
  "language_info": {
   "codemirror_mode": {
    "name": "ipython",
    "version": 3
   },
   "file_extension": ".py",
   "mimetype": "text/x-python",
   "name": "python",
   "nbconvert_exporter": "python",
   "pygments_lexer": "ipython3",
   "version": "3.8.8"
  }
 },
 "nbformat": 4,
 "nbformat_minor": 5
}
