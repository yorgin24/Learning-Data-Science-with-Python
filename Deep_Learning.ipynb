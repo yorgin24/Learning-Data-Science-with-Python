{
  "nbformat": 4,
  "nbformat_minor": 0,
  "metadata": {
    "colab": {
      "name": "Deep Learning.ipynb",
      "provenance": [],
      "collapsed_sections": [],
      "toc_visible": true,
      "authorship_tag": "ABX9TyMLXBtZ3CgwfBNYh/N0X5rn",
      "include_colab_link": true
    },
    "kernelspec": {
      "name": "python3",
      "display_name": "Python 3"
    },
    "language_info": {
      "name": "python"
    }
  },
  "cells": [
    {
      "cell_type": "markdown",
      "metadata": {
        "id": "view-in-github",
        "colab_type": "text"
      },
      "source": [
        "<a href=\"https://colab.research.google.com/github/yorgin24/Learning-Data-Science-with-Python/blob/main/Deep_Learning.ipynb\" target=\"_parent\"><img src=\"https://colab.research.google.com/assets/colab-badge.svg\" alt=\"Open In Colab\"/></a>"
      ]
    },
    {
      "cell_type": "markdown",
      "source": [
        "KDU Assignement Week 8 : Deep Learning Model with Iris Dataset\n",
        "by Yorgin A. Pada "
      ],
      "metadata": {
        "id": "5UYY7KOa6VVL"
      }
    },
    {
      "cell_type": "markdown",
      "source": [
        "# Exploring and Processing the Data\n"
      ],
      "metadata": {
        "id": "Y2h999_VlCvw"
      }
    },
    {
      "cell_type": "code",
      "source": [
        "import pandas as pd"
      ],
      "metadata": {
        "id": "LIKwpXRElIh0"
      },
      "execution_count": 1,
      "outputs": []
    },
    {
      "cell_type": "code",
      "source": [
        "df = pd.read_csv('/content/Iris.csv')"
      ],
      "metadata": {
        "id": "me1lIsdclTrW"
      },
      "execution_count": 3,
      "outputs": []
    },
    {
      "cell_type": "code",
      "source": [
        "df"
      ],
      "metadata": {
        "id": "m-w_Cc5BlU63",
        "colab": {
          "base_uri": "https://localhost:8080/",
          "height": 424
        },
        "outputId": "bc106852-58c0-45c7-b93c-4b954c33f004"
      },
      "execution_count": 4,
      "outputs": [
        {
          "output_type": "execute_result",
          "data": {
            "text/plain": [
              "      Id  SepalLengthCm  SepalWidthCm  PetalLengthCm  PetalWidthCm  \\\n",
              "0      1            5.1           3.5            1.4           0.2   \n",
              "1      2            4.9           3.0            1.4           0.2   \n",
              "2      3            4.7           3.2            1.3           0.2   \n",
              "3      4            4.6           3.1            1.5           0.2   \n",
              "4      5            5.0           3.6            1.4           0.2   \n",
              "..   ...            ...           ...            ...           ...   \n",
              "145  146            6.7           3.0            5.2           2.3   \n",
              "146  147            6.3           2.5            5.0           1.9   \n",
              "147  148            6.5           3.0            5.2           2.0   \n",
              "148  149            6.2           3.4            5.4           2.3   \n",
              "149  150            5.9           3.0            5.1           1.8   \n",
              "\n",
              "            Species  \n",
              "0       Iris-setosa  \n",
              "1       Iris-setosa  \n",
              "2       Iris-setosa  \n",
              "3       Iris-setosa  \n",
              "4       Iris-setosa  \n",
              "..              ...  \n",
              "145  Iris-virginica  \n",
              "146  Iris-virginica  \n",
              "147  Iris-virginica  \n",
              "148  Iris-virginica  \n",
              "149  Iris-virginica  \n",
              "\n",
              "[150 rows x 6 columns]"
            ],
            "text/html": [
              "\n",
              "  <div id=\"df-7c21c488-67c1-4751-b1c8-65b6e92e284c\">\n",
              "    <div class=\"colab-df-container\">\n",
              "      <div>\n",
              "<style scoped>\n",
              "    .dataframe tbody tr th:only-of-type {\n",
              "        vertical-align: middle;\n",
              "    }\n",
              "\n",
              "    .dataframe tbody tr th {\n",
              "        vertical-align: top;\n",
              "    }\n",
              "\n",
              "    .dataframe thead th {\n",
              "        text-align: right;\n",
              "    }\n",
              "</style>\n",
              "<table border=\"1\" class=\"dataframe\">\n",
              "  <thead>\n",
              "    <tr style=\"text-align: right;\">\n",
              "      <th></th>\n",
              "      <th>Id</th>\n",
              "      <th>SepalLengthCm</th>\n",
              "      <th>SepalWidthCm</th>\n",
              "      <th>PetalLengthCm</th>\n",
              "      <th>PetalWidthCm</th>\n",
              "      <th>Species</th>\n",
              "    </tr>\n",
              "  </thead>\n",
              "  <tbody>\n",
              "    <tr>\n",
              "      <th>0</th>\n",
              "      <td>1</td>\n",
              "      <td>5.1</td>\n",
              "      <td>3.5</td>\n",
              "      <td>1.4</td>\n",
              "      <td>0.2</td>\n",
              "      <td>Iris-setosa</td>\n",
              "    </tr>\n",
              "    <tr>\n",
              "      <th>1</th>\n",
              "      <td>2</td>\n",
              "      <td>4.9</td>\n",
              "      <td>3.0</td>\n",
              "      <td>1.4</td>\n",
              "      <td>0.2</td>\n",
              "      <td>Iris-setosa</td>\n",
              "    </tr>\n",
              "    <tr>\n",
              "      <th>2</th>\n",
              "      <td>3</td>\n",
              "      <td>4.7</td>\n",
              "      <td>3.2</td>\n",
              "      <td>1.3</td>\n",
              "      <td>0.2</td>\n",
              "      <td>Iris-setosa</td>\n",
              "    </tr>\n",
              "    <tr>\n",
              "      <th>3</th>\n",
              "      <td>4</td>\n",
              "      <td>4.6</td>\n",
              "      <td>3.1</td>\n",
              "      <td>1.5</td>\n",
              "      <td>0.2</td>\n",
              "      <td>Iris-setosa</td>\n",
              "    </tr>\n",
              "    <tr>\n",
              "      <th>4</th>\n",
              "      <td>5</td>\n",
              "      <td>5.0</td>\n",
              "      <td>3.6</td>\n",
              "      <td>1.4</td>\n",
              "      <td>0.2</td>\n",
              "      <td>Iris-setosa</td>\n",
              "    </tr>\n",
              "    <tr>\n",
              "      <th>...</th>\n",
              "      <td>...</td>\n",
              "      <td>...</td>\n",
              "      <td>...</td>\n",
              "      <td>...</td>\n",
              "      <td>...</td>\n",
              "      <td>...</td>\n",
              "    </tr>\n",
              "    <tr>\n",
              "      <th>145</th>\n",
              "      <td>146</td>\n",
              "      <td>6.7</td>\n",
              "      <td>3.0</td>\n",
              "      <td>5.2</td>\n",
              "      <td>2.3</td>\n",
              "      <td>Iris-virginica</td>\n",
              "    </tr>\n",
              "    <tr>\n",
              "      <th>146</th>\n",
              "      <td>147</td>\n",
              "      <td>6.3</td>\n",
              "      <td>2.5</td>\n",
              "      <td>5.0</td>\n",
              "      <td>1.9</td>\n",
              "      <td>Iris-virginica</td>\n",
              "    </tr>\n",
              "    <tr>\n",
              "      <th>147</th>\n",
              "      <td>148</td>\n",
              "      <td>6.5</td>\n",
              "      <td>3.0</td>\n",
              "      <td>5.2</td>\n",
              "      <td>2.0</td>\n",
              "      <td>Iris-virginica</td>\n",
              "    </tr>\n",
              "    <tr>\n",
              "      <th>148</th>\n",
              "      <td>149</td>\n",
              "      <td>6.2</td>\n",
              "      <td>3.4</td>\n",
              "      <td>5.4</td>\n",
              "      <td>2.3</td>\n",
              "      <td>Iris-virginica</td>\n",
              "    </tr>\n",
              "    <tr>\n",
              "      <th>149</th>\n",
              "      <td>150</td>\n",
              "      <td>5.9</td>\n",
              "      <td>3.0</td>\n",
              "      <td>5.1</td>\n",
              "      <td>1.8</td>\n",
              "      <td>Iris-virginica</td>\n",
              "    </tr>\n",
              "  </tbody>\n",
              "</table>\n",
              "<p>150 rows × 6 columns</p>\n",
              "</div>\n",
              "      <button class=\"colab-df-convert\" onclick=\"convertToInteractive('df-7c21c488-67c1-4751-b1c8-65b6e92e284c')\"\n",
              "              title=\"Convert this dataframe to an interactive table.\"\n",
              "              style=\"display:none;\">\n",
              "        \n",
              "  <svg xmlns=\"http://www.w3.org/2000/svg\" height=\"24px\"viewBox=\"0 0 24 24\"\n",
              "       width=\"24px\">\n",
              "    <path d=\"M0 0h24v24H0V0z\" fill=\"none\"/>\n",
              "    <path d=\"M18.56 5.44l.94 2.06.94-2.06 2.06-.94-2.06-.94-.94-2.06-.94 2.06-2.06.94zm-11 1L8.5 8.5l.94-2.06 2.06-.94-2.06-.94L8.5 2.5l-.94 2.06-2.06.94zm10 10l.94 2.06.94-2.06 2.06-.94-2.06-.94-.94-2.06-.94 2.06-2.06.94z\"/><path d=\"M17.41 7.96l-1.37-1.37c-.4-.4-.92-.59-1.43-.59-.52 0-1.04.2-1.43.59L10.3 9.45l-7.72 7.72c-.78.78-.78 2.05 0 2.83L4 21.41c.39.39.9.59 1.41.59.51 0 1.02-.2 1.41-.59l7.78-7.78 2.81-2.81c.8-.78.8-2.07 0-2.86zM5.41 20L4 18.59l7.72-7.72 1.47 1.35L5.41 20z\"/>\n",
              "  </svg>\n",
              "      </button>\n",
              "      \n",
              "  <style>\n",
              "    .colab-df-container {\n",
              "      display:flex;\n",
              "      flex-wrap:wrap;\n",
              "      gap: 12px;\n",
              "    }\n",
              "\n",
              "    .colab-df-convert {\n",
              "      background-color: #E8F0FE;\n",
              "      border: none;\n",
              "      border-radius: 50%;\n",
              "      cursor: pointer;\n",
              "      display: none;\n",
              "      fill: #1967D2;\n",
              "      height: 32px;\n",
              "      padding: 0 0 0 0;\n",
              "      width: 32px;\n",
              "    }\n",
              "\n",
              "    .colab-df-convert:hover {\n",
              "      background-color: #E2EBFA;\n",
              "      box-shadow: 0px 1px 2px rgba(60, 64, 67, 0.3), 0px 1px 3px 1px rgba(60, 64, 67, 0.15);\n",
              "      fill: #174EA6;\n",
              "    }\n",
              "\n",
              "    [theme=dark] .colab-df-convert {\n",
              "      background-color: #3B4455;\n",
              "      fill: #D2E3FC;\n",
              "    }\n",
              "\n",
              "    [theme=dark] .colab-df-convert:hover {\n",
              "      background-color: #434B5C;\n",
              "      box-shadow: 0px 1px 3px 1px rgba(0, 0, 0, 0.15);\n",
              "      filter: drop-shadow(0px 1px 2px rgba(0, 0, 0, 0.3));\n",
              "      fill: #FFFFFF;\n",
              "    }\n",
              "  </style>\n",
              "\n",
              "      <script>\n",
              "        const buttonEl =\n",
              "          document.querySelector('#df-7c21c488-67c1-4751-b1c8-65b6e92e284c button.colab-df-convert');\n",
              "        buttonEl.style.display =\n",
              "          google.colab.kernel.accessAllowed ? 'block' : 'none';\n",
              "\n",
              "        async function convertToInteractive(key) {\n",
              "          const element = document.querySelector('#df-7c21c488-67c1-4751-b1c8-65b6e92e284c');\n",
              "          const dataTable =\n",
              "            await google.colab.kernel.invokeFunction('convertToInteractive',\n",
              "                                                     [key], {});\n",
              "          if (!dataTable) return;\n",
              "\n",
              "          const docLinkHtml = 'Like what you see? Visit the ' +\n",
              "            '<a target=\"_blank\" href=https://colab.research.google.com/notebooks/data_table.ipynb>data table notebook</a>'\n",
              "            + ' to learn more about interactive tables.';\n",
              "          element.innerHTML = '';\n",
              "          dataTable['output_type'] = 'display_data';\n",
              "          await google.colab.output.renderOutput(dataTable, element);\n",
              "          const docLink = document.createElement('div');\n",
              "          docLink.innerHTML = docLinkHtml;\n",
              "          element.appendChild(docLink);\n",
              "        }\n",
              "      </script>\n",
              "    </div>\n",
              "  </div>\n",
              "  "
            ]
          },
          "metadata": {},
          "execution_count": 4
        }
      ]
    },
    {
      "cell_type": "markdown",
      "source": [
        "ML hanya bisa mengolah data numerical, oleh sebab itu kolom species harus dilakukan **label encoder** menggunakan library dari sklearn untuk mengubah tipe datanya."
      ],
      "metadata": {
        "id": "EJkE654FoTuG"
      }
    },
    {
      "cell_type": "code",
      "source": [
        "from sklearn import preprocessing"
      ],
      "metadata": {
        "colab": {
          "base_uri": "https://localhost:8080/",
          "height": 424
        },
        "id": "IOP3zyTdpz4r",
        "outputId": "db9436c9-7eba-4502-f374-6281f63a5d25"
      },
      "execution_count": 6,
      "outputs": [
        {
          "output_type": "execute_result",
          "data": {
            "text/plain": [
              "      Id  SepalLengthCm  SepalWidthCm  PetalLengthCm  PetalWidthCm  Species\n",
              "0      1            5.1           3.5            1.4           0.2        0\n",
              "1      2            4.9           3.0            1.4           0.2        0\n",
              "2      3            4.7           3.2            1.3           0.2        0\n",
              "3      4            4.6           3.1            1.5           0.2        0\n",
              "4      5            5.0           3.6            1.4           0.2        0\n",
              "..   ...            ...           ...            ...           ...      ...\n",
              "145  146            6.7           3.0            5.2           2.3        2\n",
              "146  147            6.3           2.5            5.0           1.9        2\n",
              "147  148            6.5           3.0            5.2           2.0        2\n",
              "148  149            6.2           3.4            5.4           2.3        2\n",
              "149  150            5.9           3.0            5.1           1.8        2\n",
              "\n",
              "[150 rows x 6 columns]"
            ],
            "text/html": [
              "\n",
              "  <div id=\"df-146dcd1f-f90e-4dd9-9b97-629d2d4e3e8a\">\n",
              "    <div class=\"colab-df-container\">\n",
              "      <div>\n",
              "<style scoped>\n",
              "    .dataframe tbody tr th:only-of-type {\n",
              "        vertical-align: middle;\n",
              "    }\n",
              "\n",
              "    .dataframe tbody tr th {\n",
              "        vertical-align: top;\n",
              "    }\n",
              "\n",
              "    .dataframe thead th {\n",
              "        text-align: right;\n",
              "    }\n",
              "</style>\n",
              "<table border=\"1\" class=\"dataframe\">\n",
              "  <thead>\n",
              "    <tr style=\"text-align: right;\">\n",
              "      <th></th>\n",
              "      <th>Id</th>\n",
              "      <th>SepalLengthCm</th>\n",
              "      <th>SepalWidthCm</th>\n",
              "      <th>PetalLengthCm</th>\n",
              "      <th>PetalWidthCm</th>\n",
              "      <th>Species</th>\n",
              "    </tr>\n",
              "  </thead>\n",
              "  <tbody>\n",
              "    <tr>\n",
              "      <th>0</th>\n",
              "      <td>1</td>\n",
              "      <td>5.1</td>\n",
              "      <td>3.5</td>\n",
              "      <td>1.4</td>\n",
              "      <td>0.2</td>\n",
              "      <td>0</td>\n",
              "    </tr>\n",
              "    <tr>\n",
              "      <th>1</th>\n",
              "      <td>2</td>\n",
              "      <td>4.9</td>\n",
              "      <td>3.0</td>\n",
              "      <td>1.4</td>\n",
              "      <td>0.2</td>\n",
              "      <td>0</td>\n",
              "    </tr>\n",
              "    <tr>\n",
              "      <th>2</th>\n",
              "      <td>3</td>\n",
              "      <td>4.7</td>\n",
              "      <td>3.2</td>\n",
              "      <td>1.3</td>\n",
              "      <td>0.2</td>\n",
              "      <td>0</td>\n",
              "    </tr>\n",
              "    <tr>\n",
              "      <th>3</th>\n",
              "      <td>4</td>\n",
              "      <td>4.6</td>\n",
              "      <td>3.1</td>\n",
              "      <td>1.5</td>\n",
              "      <td>0.2</td>\n",
              "      <td>0</td>\n",
              "    </tr>\n",
              "    <tr>\n",
              "      <th>4</th>\n",
              "      <td>5</td>\n",
              "      <td>5.0</td>\n",
              "      <td>3.6</td>\n",
              "      <td>1.4</td>\n",
              "      <td>0.2</td>\n",
              "      <td>0</td>\n",
              "    </tr>\n",
              "    <tr>\n",
              "      <th>...</th>\n",
              "      <td>...</td>\n",
              "      <td>...</td>\n",
              "      <td>...</td>\n",
              "      <td>...</td>\n",
              "      <td>...</td>\n",
              "      <td>...</td>\n",
              "    </tr>\n",
              "    <tr>\n",
              "      <th>145</th>\n",
              "      <td>146</td>\n",
              "      <td>6.7</td>\n",
              "      <td>3.0</td>\n",
              "      <td>5.2</td>\n",
              "      <td>2.3</td>\n",
              "      <td>2</td>\n",
              "    </tr>\n",
              "    <tr>\n",
              "      <th>146</th>\n",
              "      <td>147</td>\n",
              "      <td>6.3</td>\n",
              "      <td>2.5</td>\n",
              "      <td>5.0</td>\n",
              "      <td>1.9</td>\n",
              "      <td>2</td>\n",
              "    </tr>\n",
              "    <tr>\n",
              "      <th>147</th>\n",
              "      <td>148</td>\n",
              "      <td>6.5</td>\n",
              "      <td>3.0</td>\n",
              "      <td>5.2</td>\n",
              "      <td>2.0</td>\n",
              "      <td>2</td>\n",
              "    </tr>\n",
              "    <tr>\n",
              "      <th>148</th>\n",
              "      <td>149</td>\n",
              "      <td>6.2</td>\n",
              "      <td>3.4</td>\n",
              "      <td>5.4</td>\n",
              "      <td>2.3</td>\n",
              "      <td>2</td>\n",
              "    </tr>\n",
              "    <tr>\n",
              "      <th>149</th>\n",
              "      <td>150</td>\n",
              "      <td>5.9</td>\n",
              "      <td>3.0</td>\n",
              "      <td>5.1</td>\n",
              "      <td>1.8</td>\n",
              "      <td>2</td>\n",
              "    </tr>\n",
              "  </tbody>\n",
              "</table>\n",
              "<p>150 rows × 6 columns</p>\n",
              "</div>\n",
              "      <button class=\"colab-df-convert\" onclick=\"convertToInteractive('df-146dcd1f-f90e-4dd9-9b97-629d2d4e3e8a')\"\n",
              "              title=\"Convert this dataframe to an interactive table.\"\n",
              "              style=\"display:none;\">\n",
              "        \n",
              "  <svg xmlns=\"http://www.w3.org/2000/svg\" height=\"24px\"viewBox=\"0 0 24 24\"\n",
              "       width=\"24px\">\n",
              "    <path d=\"M0 0h24v24H0V0z\" fill=\"none\"/>\n",
              "    <path d=\"M18.56 5.44l.94 2.06.94-2.06 2.06-.94-2.06-.94-.94-2.06-.94 2.06-2.06.94zm-11 1L8.5 8.5l.94-2.06 2.06-.94-2.06-.94L8.5 2.5l-.94 2.06-2.06.94zm10 10l.94 2.06.94-2.06 2.06-.94-2.06-.94-.94-2.06-.94 2.06-2.06.94z\"/><path d=\"M17.41 7.96l-1.37-1.37c-.4-.4-.92-.59-1.43-.59-.52 0-1.04.2-1.43.59L10.3 9.45l-7.72 7.72c-.78.78-.78 2.05 0 2.83L4 21.41c.39.39.9.59 1.41.59.51 0 1.02-.2 1.41-.59l7.78-7.78 2.81-2.81c.8-.78.8-2.07 0-2.86zM5.41 20L4 18.59l7.72-7.72 1.47 1.35L5.41 20z\"/>\n",
              "  </svg>\n",
              "      </button>\n",
              "      \n",
              "  <style>\n",
              "    .colab-df-container {\n",
              "      display:flex;\n",
              "      flex-wrap:wrap;\n",
              "      gap: 12px;\n",
              "    }\n",
              "\n",
              "    .colab-df-convert {\n",
              "      background-color: #E8F0FE;\n",
              "      border: none;\n",
              "      border-radius: 50%;\n",
              "      cursor: pointer;\n",
              "      display: none;\n",
              "      fill: #1967D2;\n",
              "      height: 32px;\n",
              "      padding: 0 0 0 0;\n",
              "      width: 32px;\n",
              "    }\n",
              "\n",
              "    .colab-df-convert:hover {\n",
              "      background-color: #E2EBFA;\n",
              "      box-shadow: 0px 1px 2px rgba(60, 64, 67, 0.3), 0px 1px 3px 1px rgba(60, 64, 67, 0.15);\n",
              "      fill: #174EA6;\n",
              "    }\n",
              "\n",
              "    [theme=dark] .colab-df-convert {\n",
              "      background-color: #3B4455;\n",
              "      fill: #D2E3FC;\n",
              "    }\n",
              "\n",
              "    [theme=dark] .colab-df-convert:hover {\n",
              "      background-color: #434B5C;\n",
              "      box-shadow: 0px 1px 3px 1px rgba(0, 0, 0, 0.15);\n",
              "      filter: drop-shadow(0px 1px 2px rgba(0, 0, 0, 0.3));\n",
              "      fill: #FFFFFF;\n",
              "    }\n",
              "  </style>\n",
              "\n",
              "      <script>\n",
              "        const buttonEl =\n",
              "          document.querySelector('#df-146dcd1f-f90e-4dd9-9b97-629d2d4e3e8a button.colab-df-convert');\n",
              "        buttonEl.style.display =\n",
              "          google.colab.kernel.accessAllowed ? 'block' : 'none';\n",
              "\n",
              "        async function convertToInteractive(key) {\n",
              "          const element = document.querySelector('#df-146dcd1f-f90e-4dd9-9b97-629d2d4e3e8a');\n",
              "          const dataTable =\n",
              "            await google.colab.kernel.invokeFunction('convertToInteractive',\n",
              "                                                     [key], {});\n",
              "          if (!dataTable) return;\n",
              "\n",
              "          const docLinkHtml = 'Like what you see? Visit the ' +\n",
              "            '<a target=\"_blank\" href=https://colab.research.google.com/notebooks/data_table.ipynb>data table notebook</a>'\n",
              "            + ' to learn more about interactive tables.';\n",
              "          element.innerHTML = '';\n",
              "          dataTable['output_type'] = 'display_data';\n",
              "          await google.colab.output.renderOutput(dataTable, element);\n",
              "          const docLink = document.createElement('div');\n",
              "          docLink.innerHTML = docLinkHtml;\n",
              "          element.appendChild(docLink);\n",
              "        }\n",
              "      </script>\n",
              "    </div>\n",
              "  </div>\n",
              "  "
            ]
          },
          "metadata": {},
          "execution_count": 6
        }
      ]
    },
    {
      "cell_type": "markdown",
      "source": [
        "label_encoder object knows how to understand word labels."
      ],
      "metadata": {
        "id": "o2UYVj-_ruNm"
      }
    },
    {
      "cell_type": "code",
      "source": [
        "label_encoder = preprocessing.LabelEncoder()"
      ],
      "metadata": {
        "id": "J9SCHtyvrofq"
      },
      "execution_count": null,
      "outputs": []
    },
    {
      "cell_type": "markdown",
      "source": [
        "Encode labels in column 'Species'."
      ],
      "metadata": {
        "id": "L-gR6B1Hrzos"
      }
    },
    {
      "cell_type": "code",
      "source": [
        "df['Species']= label_encoder.fit_transform(df['Species']\n",
        "df"
      ],
      "metadata": {
        "id": "LA5zzYqQrnsT"
      },
      "execution_count": null,
      "outputs": []
    },
    {
      "cell_type": "markdown",
      "source": [
        "Convert dataframe menjadi array untuk mempermudah proses ML"
      ],
      "metadata": {
        "id": "5cbvElWPl_gm"
      }
    },
    {
      "cell_type": "code",
      "source": [
        "dataset = df.values"
      ],
      "metadata": {
        "id": "AiIwmNrdl9x9"
      },
      "execution_count": 7,
      "outputs": []
    },
    {
      "cell_type": "code",
      "source": [
        "dataset"
      ],
      "metadata": {
        "id": "R1BQARHsmXTe",
        "colab": {
          "base_uri": "https://localhost:8080/"
        },
        "outputId": "4ad1e87c-2d81-4eba-9459-f797f4a46cbe"
      },
      "execution_count": 8,
      "outputs": [
        {
          "output_type": "execute_result",
          "data": {
            "text/plain": [
              "array([[1.00e+00, 5.10e+00, 3.50e+00, 1.40e+00, 2.00e-01, 0.00e+00],\n",
              "       [2.00e+00, 4.90e+00, 3.00e+00, 1.40e+00, 2.00e-01, 0.00e+00],\n",
              "       [3.00e+00, 4.70e+00, 3.20e+00, 1.30e+00, 2.00e-01, 0.00e+00],\n",
              "       [4.00e+00, 4.60e+00, 3.10e+00, 1.50e+00, 2.00e-01, 0.00e+00],\n",
              "       [5.00e+00, 5.00e+00, 3.60e+00, 1.40e+00, 2.00e-01, 0.00e+00],\n",
              "       [6.00e+00, 5.40e+00, 3.90e+00, 1.70e+00, 4.00e-01, 0.00e+00],\n",
              "       [7.00e+00, 4.60e+00, 3.40e+00, 1.40e+00, 3.00e-01, 0.00e+00],\n",
              "       [8.00e+00, 5.00e+00, 3.40e+00, 1.50e+00, 2.00e-01, 0.00e+00],\n",
              "       [9.00e+00, 4.40e+00, 2.90e+00, 1.40e+00, 2.00e-01, 0.00e+00],\n",
              "       [1.00e+01, 4.90e+00, 3.10e+00, 1.50e+00, 1.00e-01, 0.00e+00],\n",
              "       [1.10e+01, 5.40e+00, 3.70e+00, 1.50e+00, 2.00e-01, 0.00e+00],\n",
              "       [1.20e+01, 4.80e+00, 3.40e+00, 1.60e+00, 2.00e-01, 0.00e+00],\n",
              "       [1.30e+01, 4.80e+00, 3.00e+00, 1.40e+00, 1.00e-01, 0.00e+00],\n",
              "       [1.40e+01, 4.30e+00, 3.00e+00, 1.10e+00, 1.00e-01, 0.00e+00],\n",
              "       [1.50e+01, 5.80e+00, 4.00e+00, 1.20e+00, 2.00e-01, 0.00e+00],\n",
              "       [1.60e+01, 5.70e+00, 4.40e+00, 1.50e+00, 4.00e-01, 0.00e+00],\n",
              "       [1.70e+01, 5.40e+00, 3.90e+00, 1.30e+00, 4.00e-01, 0.00e+00],\n",
              "       [1.80e+01, 5.10e+00, 3.50e+00, 1.40e+00, 3.00e-01, 0.00e+00],\n",
              "       [1.90e+01, 5.70e+00, 3.80e+00, 1.70e+00, 3.00e-01, 0.00e+00],\n",
              "       [2.00e+01, 5.10e+00, 3.80e+00, 1.50e+00, 3.00e-01, 0.00e+00],\n",
              "       [2.10e+01, 5.40e+00, 3.40e+00, 1.70e+00, 2.00e-01, 0.00e+00],\n",
              "       [2.20e+01, 5.10e+00, 3.70e+00, 1.50e+00, 4.00e-01, 0.00e+00],\n",
              "       [2.30e+01, 4.60e+00, 3.60e+00, 1.00e+00, 2.00e-01, 0.00e+00],\n",
              "       [2.40e+01, 5.10e+00, 3.30e+00, 1.70e+00, 5.00e-01, 0.00e+00],\n",
              "       [2.50e+01, 4.80e+00, 3.40e+00, 1.90e+00, 2.00e-01, 0.00e+00],\n",
              "       [2.60e+01, 5.00e+00, 3.00e+00, 1.60e+00, 2.00e-01, 0.00e+00],\n",
              "       [2.70e+01, 5.00e+00, 3.40e+00, 1.60e+00, 4.00e-01, 0.00e+00],\n",
              "       [2.80e+01, 5.20e+00, 3.50e+00, 1.50e+00, 2.00e-01, 0.00e+00],\n",
              "       [2.90e+01, 5.20e+00, 3.40e+00, 1.40e+00, 2.00e-01, 0.00e+00],\n",
              "       [3.00e+01, 4.70e+00, 3.20e+00, 1.60e+00, 2.00e-01, 0.00e+00],\n",
              "       [3.10e+01, 4.80e+00, 3.10e+00, 1.60e+00, 2.00e-01, 0.00e+00],\n",
              "       [3.20e+01, 5.40e+00, 3.40e+00, 1.50e+00, 4.00e-01, 0.00e+00],\n",
              "       [3.30e+01, 5.20e+00, 4.10e+00, 1.50e+00, 1.00e-01, 0.00e+00],\n",
              "       [3.40e+01, 5.50e+00, 4.20e+00, 1.40e+00, 2.00e-01, 0.00e+00],\n",
              "       [3.50e+01, 4.90e+00, 3.10e+00, 1.50e+00, 1.00e-01, 0.00e+00],\n",
              "       [3.60e+01, 5.00e+00, 3.20e+00, 1.20e+00, 2.00e-01, 0.00e+00],\n",
              "       [3.70e+01, 5.50e+00, 3.50e+00, 1.30e+00, 2.00e-01, 0.00e+00],\n",
              "       [3.80e+01, 4.90e+00, 3.10e+00, 1.50e+00, 1.00e-01, 0.00e+00],\n",
              "       [3.90e+01, 4.40e+00, 3.00e+00, 1.30e+00, 2.00e-01, 0.00e+00],\n",
              "       [4.00e+01, 5.10e+00, 3.40e+00, 1.50e+00, 2.00e-01, 0.00e+00],\n",
              "       [4.10e+01, 5.00e+00, 3.50e+00, 1.30e+00, 3.00e-01, 0.00e+00],\n",
              "       [4.20e+01, 4.50e+00, 2.30e+00, 1.30e+00, 3.00e-01, 0.00e+00],\n",
              "       [4.30e+01, 4.40e+00, 3.20e+00, 1.30e+00, 2.00e-01, 0.00e+00],\n",
              "       [4.40e+01, 5.00e+00, 3.50e+00, 1.60e+00, 6.00e-01, 0.00e+00],\n",
              "       [4.50e+01, 5.10e+00, 3.80e+00, 1.90e+00, 4.00e-01, 0.00e+00],\n",
              "       [4.60e+01, 4.80e+00, 3.00e+00, 1.40e+00, 3.00e-01, 0.00e+00],\n",
              "       [4.70e+01, 5.10e+00, 3.80e+00, 1.60e+00, 2.00e-01, 0.00e+00],\n",
              "       [4.80e+01, 4.60e+00, 3.20e+00, 1.40e+00, 2.00e-01, 0.00e+00],\n",
              "       [4.90e+01, 5.30e+00, 3.70e+00, 1.50e+00, 2.00e-01, 0.00e+00],\n",
              "       [5.00e+01, 5.00e+00, 3.30e+00, 1.40e+00, 2.00e-01, 0.00e+00],\n",
              "       [5.10e+01, 7.00e+00, 3.20e+00, 4.70e+00, 1.40e+00, 1.00e+00],\n",
              "       [5.20e+01, 6.40e+00, 3.20e+00, 4.50e+00, 1.50e+00, 1.00e+00],\n",
              "       [5.30e+01, 6.90e+00, 3.10e+00, 4.90e+00, 1.50e+00, 1.00e+00],\n",
              "       [5.40e+01, 5.50e+00, 2.30e+00, 4.00e+00, 1.30e+00, 1.00e+00],\n",
              "       [5.50e+01, 6.50e+00, 2.80e+00, 4.60e+00, 1.50e+00, 1.00e+00],\n",
              "       [5.60e+01, 5.70e+00, 2.80e+00, 4.50e+00, 1.30e+00, 1.00e+00],\n",
              "       [5.70e+01, 6.30e+00, 3.30e+00, 4.70e+00, 1.60e+00, 1.00e+00],\n",
              "       [5.80e+01, 4.90e+00, 2.40e+00, 3.30e+00, 1.00e+00, 1.00e+00],\n",
              "       [5.90e+01, 6.60e+00, 2.90e+00, 4.60e+00, 1.30e+00, 1.00e+00],\n",
              "       [6.00e+01, 5.20e+00, 2.70e+00, 3.90e+00, 1.40e+00, 1.00e+00],\n",
              "       [6.10e+01, 5.00e+00, 2.00e+00, 3.50e+00, 1.00e+00, 1.00e+00],\n",
              "       [6.20e+01, 5.90e+00, 3.00e+00, 4.20e+00, 1.50e+00, 1.00e+00],\n",
              "       [6.30e+01, 6.00e+00, 2.20e+00, 4.00e+00, 1.00e+00, 1.00e+00],\n",
              "       [6.40e+01, 6.10e+00, 2.90e+00, 4.70e+00, 1.40e+00, 1.00e+00],\n",
              "       [6.50e+01, 5.60e+00, 2.90e+00, 3.60e+00, 1.30e+00, 1.00e+00],\n",
              "       [6.60e+01, 6.70e+00, 3.10e+00, 4.40e+00, 1.40e+00, 1.00e+00],\n",
              "       [6.70e+01, 5.60e+00, 3.00e+00, 4.50e+00, 1.50e+00, 1.00e+00],\n",
              "       [6.80e+01, 5.80e+00, 2.70e+00, 4.10e+00, 1.00e+00, 1.00e+00],\n",
              "       [6.90e+01, 6.20e+00, 2.20e+00, 4.50e+00, 1.50e+00, 1.00e+00],\n",
              "       [7.00e+01, 5.60e+00, 2.50e+00, 3.90e+00, 1.10e+00, 1.00e+00],\n",
              "       [7.10e+01, 5.90e+00, 3.20e+00, 4.80e+00, 1.80e+00, 1.00e+00],\n",
              "       [7.20e+01, 6.10e+00, 2.80e+00, 4.00e+00, 1.30e+00, 1.00e+00],\n",
              "       [7.30e+01, 6.30e+00, 2.50e+00, 4.90e+00, 1.50e+00, 1.00e+00],\n",
              "       [7.40e+01, 6.10e+00, 2.80e+00, 4.70e+00, 1.20e+00, 1.00e+00],\n",
              "       [7.50e+01, 6.40e+00, 2.90e+00, 4.30e+00, 1.30e+00, 1.00e+00],\n",
              "       [7.60e+01, 6.60e+00, 3.00e+00, 4.40e+00, 1.40e+00, 1.00e+00],\n",
              "       [7.70e+01, 6.80e+00, 2.80e+00, 4.80e+00, 1.40e+00, 1.00e+00],\n",
              "       [7.80e+01, 6.70e+00, 3.00e+00, 5.00e+00, 1.70e+00, 1.00e+00],\n",
              "       [7.90e+01, 6.00e+00, 2.90e+00, 4.50e+00, 1.50e+00, 1.00e+00],\n",
              "       [8.00e+01, 5.70e+00, 2.60e+00, 3.50e+00, 1.00e+00, 1.00e+00],\n",
              "       [8.10e+01, 5.50e+00, 2.40e+00, 3.80e+00, 1.10e+00, 1.00e+00],\n",
              "       [8.20e+01, 5.50e+00, 2.40e+00, 3.70e+00, 1.00e+00, 1.00e+00],\n",
              "       [8.30e+01, 5.80e+00, 2.70e+00, 3.90e+00, 1.20e+00, 1.00e+00],\n",
              "       [8.40e+01, 6.00e+00, 2.70e+00, 5.10e+00, 1.60e+00, 1.00e+00],\n",
              "       [8.50e+01, 5.40e+00, 3.00e+00, 4.50e+00, 1.50e+00, 1.00e+00],\n",
              "       [8.60e+01, 6.00e+00, 3.40e+00, 4.50e+00, 1.60e+00, 1.00e+00],\n",
              "       [8.70e+01, 6.70e+00, 3.10e+00, 4.70e+00, 1.50e+00, 1.00e+00],\n",
              "       [8.80e+01, 6.30e+00, 2.30e+00, 4.40e+00, 1.30e+00, 1.00e+00],\n",
              "       [8.90e+01, 5.60e+00, 3.00e+00, 4.10e+00, 1.30e+00, 1.00e+00],\n",
              "       [9.00e+01, 5.50e+00, 2.50e+00, 4.00e+00, 1.30e+00, 1.00e+00],\n",
              "       [9.10e+01, 5.50e+00, 2.60e+00, 4.40e+00, 1.20e+00, 1.00e+00],\n",
              "       [9.20e+01, 6.10e+00, 3.00e+00, 4.60e+00, 1.40e+00, 1.00e+00],\n",
              "       [9.30e+01, 5.80e+00, 2.60e+00, 4.00e+00, 1.20e+00, 1.00e+00],\n",
              "       [9.40e+01, 5.00e+00, 2.30e+00, 3.30e+00, 1.00e+00, 1.00e+00],\n",
              "       [9.50e+01, 5.60e+00, 2.70e+00, 4.20e+00, 1.30e+00, 1.00e+00],\n",
              "       [9.60e+01, 5.70e+00, 3.00e+00, 4.20e+00, 1.20e+00, 1.00e+00],\n",
              "       [9.70e+01, 5.70e+00, 2.90e+00, 4.20e+00, 1.30e+00, 1.00e+00],\n",
              "       [9.80e+01, 6.20e+00, 2.90e+00, 4.30e+00, 1.30e+00, 1.00e+00],\n",
              "       [9.90e+01, 5.10e+00, 2.50e+00, 3.00e+00, 1.10e+00, 1.00e+00],\n",
              "       [1.00e+02, 5.70e+00, 2.80e+00, 4.10e+00, 1.30e+00, 1.00e+00],\n",
              "       [1.01e+02, 6.30e+00, 3.30e+00, 6.00e+00, 2.50e+00, 2.00e+00],\n",
              "       [1.02e+02, 5.80e+00, 2.70e+00, 5.10e+00, 1.90e+00, 2.00e+00],\n",
              "       [1.03e+02, 7.10e+00, 3.00e+00, 5.90e+00, 2.10e+00, 2.00e+00],\n",
              "       [1.04e+02, 6.30e+00, 2.90e+00, 5.60e+00, 1.80e+00, 2.00e+00],\n",
              "       [1.05e+02, 6.50e+00, 3.00e+00, 5.80e+00, 2.20e+00, 2.00e+00],\n",
              "       [1.06e+02, 7.60e+00, 3.00e+00, 6.60e+00, 2.10e+00, 2.00e+00],\n",
              "       [1.07e+02, 4.90e+00, 2.50e+00, 4.50e+00, 1.70e+00, 2.00e+00],\n",
              "       [1.08e+02, 7.30e+00, 2.90e+00, 6.30e+00, 1.80e+00, 2.00e+00],\n",
              "       [1.09e+02, 6.70e+00, 2.50e+00, 5.80e+00, 1.80e+00, 2.00e+00],\n",
              "       [1.10e+02, 7.20e+00, 3.60e+00, 6.10e+00, 2.50e+00, 2.00e+00],\n",
              "       [1.11e+02, 6.50e+00, 3.20e+00, 5.10e+00, 2.00e+00, 2.00e+00],\n",
              "       [1.12e+02, 6.40e+00, 2.70e+00, 5.30e+00, 1.90e+00, 2.00e+00],\n",
              "       [1.13e+02, 6.80e+00, 3.00e+00, 5.50e+00, 2.10e+00, 2.00e+00],\n",
              "       [1.14e+02, 5.70e+00, 2.50e+00, 5.00e+00, 2.00e+00, 2.00e+00],\n",
              "       [1.15e+02, 5.80e+00, 2.80e+00, 5.10e+00, 2.40e+00, 2.00e+00],\n",
              "       [1.16e+02, 6.40e+00, 3.20e+00, 5.30e+00, 2.30e+00, 2.00e+00],\n",
              "       [1.17e+02, 6.50e+00, 3.00e+00, 5.50e+00, 1.80e+00, 2.00e+00],\n",
              "       [1.18e+02, 7.70e+00, 3.80e+00, 6.70e+00, 2.20e+00, 2.00e+00],\n",
              "       [1.19e+02, 7.70e+00, 2.60e+00, 6.90e+00, 2.30e+00, 2.00e+00],\n",
              "       [1.20e+02, 6.00e+00, 2.20e+00, 5.00e+00, 1.50e+00, 2.00e+00],\n",
              "       [1.21e+02, 6.90e+00, 3.20e+00, 5.70e+00, 2.30e+00, 2.00e+00],\n",
              "       [1.22e+02, 5.60e+00, 2.80e+00, 4.90e+00, 2.00e+00, 2.00e+00],\n",
              "       [1.23e+02, 7.70e+00, 2.80e+00, 6.70e+00, 2.00e+00, 2.00e+00],\n",
              "       [1.24e+02, 6.30e+00, 2.70e+00, 4.90e+00, 1.80e+00, 2.00e+00],\n",
              "       [1.25e+02, 6.70e+00, 3.30e+00, 5.70e+00, 2.10e+00, 2.00e+00],\n",
              "       [1.26e+02, 7.20e+00, 3.20e+00, 6.00e+00, 1.80e+00, 2.00e+00],\n",
              "       [1.27e+02, 6.20e+00, 2.80e+00, 4.80e+00, 1.80e+00, 2.00e+00],\n",
              "       [1.28e+02, 6.10e+00, 3.00e+00, 4.90e+00, 1.80e+00, 2.00e+00],\n",
              "       [1.29e+02, 6.40e+00, 2.80e+00, 5.60e+00, 2.10e+00, 2.00e+00],\n",
              "       [1.30e+02, 7.20e+00, 3.00e+00, 5.80e+00, 1.60e+00, 2.00e+00],\n",
              "       [1.31e+02, 7.40e+00, 2.80e+00, 6.10e+00, 1.90e+00, 2.00e+00],\n",
              "       [1.32e+02, 7.90e+00, 3.80e+00, 6.40e+00, 2.00e+00, 2.00e+00],\n",
              "       [1.33e+02, 6.40e+00, 2.80e+00, 5.60e+00, 2.20e+00, 2.00e+00],\n",
              "       [1.34e+02, 6.30e+00, 2.80e+00, 5.10e+00, 1.50e+00, 2.00e+00],\n",
              "       [1.35e+02, 6.10e+00, 2.60e+00, 5.60e+00, 1.40e+00, 2.00e+00],\n",
              "       [1.36e+02, 7.70e+00, 3.00e+00, 6.10e+00, 2.30e+00, 2.00e+00],\n",
              "       [1.37e+02, 6.30e+00, 3.40e+00, 5.60e+00, 2.40e+00, 2.00e+00],\n",
              "       [1.38e+02, 6.40e+00, 3.10e+00, 5.50e+00, 1.80e+00, 2.00e+00],\n",
              "       [1.39e+02, 6.00e+00, 3.00e+00, 4.80e+00, 1.80e+00, 2.00e+00],\n",
              "       [1.40e+02, 6.90e+00, 3.10e+00, 5.40e+00, 2.10e+00, 2.00e+00],\n",
              "       [1.41e+02, 6.70e+00, 3.10e+00, 5.60e+00, 2.40e+00, 2.00e+00],\n",
              "       [1.42e+02, 6.90e+00, 3.10e+00, 5.10e+00, 2.30e+00, 2.00e+00],\n",
              "       [1.43e+02, 5.80e+00, 2.70e+00, 5.10e+00, 1.90e+00, 2.00e+00],\n",
              "       [1.44e+02, 6.80e+00, 3.20e+00, 5.90e+00, 2.30e+00, 2.00e+00],\n",
              "       [1.45e+02, 6.70e+00, 3.30e+00, 5.70e+00, 2.50e+00, 2.00e+00],\n",
              "       [1.46e+02, 6.70e+00, 3.00e+00, 5.20e+00, 2.30e+00, 2.00e+00],\n",
              "       [1.47e+02, 6.30e+00, 2.50e+00, 5.00e+00, 1.90e+00, 2.00e+00],\n",
              "       [1.48e+02, 6.50e+00, 3.00e+00, 5.20e+00, 2.00e+00, 2.00e+00],\n",
              "       [1.49e+02, 6.20e+00, 3.40e+00, 5.40e+00, 2.30e+00, 2.00e+00],\n",
              "       [1.50e+02, 5.90e+00, 3.00e+00, 5.10e+00, 1.80e+00, 2.00e+00]])"
            ]
          },
          "metadata": {},
          "execution_count": 8
        }
      ]
    },
    {
      "cell_type": "markdown",
      "source": [
        "split dataset menjadi **input features(X)** dan **predict(Y)**\n",
        "\n",
        "*   input features = [semua baris, kolom index 0-4]\n",
        "*   predict = [semua baris, kolom index 5]"
      ],
      "metadata": {
        "id": "IAhXzFolnZFr"
      }
    },
    {
      "cell_type": "code",
      "source": [
        "X = dataset[:,0:5]\n",
        "Y = dataset[:,5]"
      ],
      "metadata": {
        "id": "UfpK1jrsmX7W"
      },
      "execution_count": 9,
      "outputs": []
    },
    {
      "cell_type": "markdown",
      "source": [
        "normalisasi data menggunakan **min_max_scaler** sehingga semua range data menjadi 0-1"
      ],
      "metadata": {
        "id": "ZvgtUwWSpMAt"
      }
    },
    {
      "cell_type": "code",
      "source": [
        "min_max_scaler = preprocessing.MinMaxScaler()\n",
        "X_scale = min_max_scaler.fit_transform(X)"
      ],
      "metadata": {
        "id": "9QRdPWTZqCbq"
      },
      "execution_count": 11,
      "outputs": []
    },
    {
      "cell_type": "code",
      "source": [
        "X_scale"
      ],
      "metadata": {
        "id": "dH4GUdf5qDFM",
        "colab": {
          "base_uri": "https://localhost:8080/"
        },
        "outputId": "6fcda778-0203-40a8-d0d1-9cc1e9cec08e"
      },
      "execution_count": 12,
      "outputs": [
        {
          "output_type": "execute_result",
          "data": {
            "text/plain": [
              "array([[0.        , 0.22222222, 0.625     , 0.06779661, 0.04166667],\n",
              "       [0.00671141, 0.16666667, 0.41666667, 0.06779661, 0.04166667],\n",
              "       [0.01342282, 0.11111111, 0.5       , 0.05084746, 0.04166667],\n",
              "       [0.02013423, 0.08333333, 0.45833333, 0.08474576, 0.04166667],\n",
              "       [0.02684564, 0.19444444, 0.66666667, 0.06779661, 0.04166667],\n",
              "       [0.03355705, 0.30555556, 0.79166667, 0.11864407, 0.125     ],\n",
              "       [0.04026846, 0.08333333, 0.58333333, 0.06779661, 0.08333333],\n",
              "       [0.04697987, 0.19444444, 0.58333333, 0.08474576, 0.04166667],\n",
              "       [0.05369128, 0.02777778, 0.375     , 0.06779661, 0.04166667],\n",
              "       [0.06040268, 0.16666667, 0.45833333, 0.08474576, 0.        ],\n",
              "       [0.06711409, 0.30555556, 0.70833333, 0.08474576, 0.04166667],\n",
              "       [0.0738255 , 0.13888889, 0.58333333, 0.10169492, 0.04166667],\n",
              "       [0.08053691, 0.13888889, 0.41666667, 0.06779661, 0.        ],\n",
              "       [0.08724832, 0.        , 0.41666667, 0.01694915, 0.        ],\n",
              "       [0.09395973, 0.41666667, 0.83333333, 0.03389831, 0.04166667],\n",
              "       [0.10067114, 0.38888889, 1.        , 0.08474576, 0.125     ],\n",
              "       [0.10738255, 0.30555556, 0.79166667, 0.05084746, 0.125     ],\n",
              "       [0.11409396, 0.22222222, 0.625     , 0.06779661, 0.08333333],\n",
              "       [0.12080537, 0.38888889, 0.75      , 0.11864407, 0.08333333],\n",
              "       [0.12751678, 0.22222222, 0.75      , 0.08474576, 0.08333333],\n",
              "       [0.13422819, 0.30555556, 0.58333333, 0.11864407, 0.04166667],\n",
              "       [0.1409396 , 0.22222222, 0.70833333, 0.08474576, 0.125     ],\n",
              "       [0.14765101, 0.08333333, 0.66666667, 0.        , 0.04166667],\n",
              "       [0.15436242, 0.22222222, 0.54166667, 0.11864407, 0.16666667],\n",
              "       [0.16107383, 0.13888889, 0.58333333, 0.15254237, 0.04166667],\n",
              "       [0.16778523, 0.19444444, 0.41666667, 0.10169492, 0.04166667],\n",
              "       [0.17449664, 0.19444444, 0.58333333, 0.10169492, 0.125     ],\n",
              "       [0.18120805, 0.25      , 0.625     , 0.08474576, 0.04166667],\n",
              "       [0.18791946, 0.25      , 0.58333333, 0.06779661, 0.04166667],\n",
              "       [0.19463087, 0.11111111, 0.5       , 0.10169492, 0.04166667],\n",
              "       [0.20134228, 0.13888889, 0.45833333, 0.10169492, 0.04166667],\n",
              "       [0.20805369, 0.30555556, 0.58333333, 0.08474576, 0.125     ],\n",
              "       [0.2147651 , 0.25      , 0.875     , 0.08474576, 0.        ],\n",
              "       [0.22147651, 0.33333333, 0.91666667, 0.06779661, 0.04166667],\n",
              "       [0.22818792, 0.16666667, 0.45833333, 0.08474576, 0.        ],\n",
              "       [0.23489933, 0.19444444, 0.5       , 0.03389831, 0.04166667],\n",
              "       [0.24161074, 0.33333333, 0.625     , 0.05084746, 0.04166667],\n",
              "       [0.24832215, 0.16666667, 0.45833333, 0.08474576, 0.        ],\n",
              "       [0.25503356, 0.02777778, 0.41666667, 0.05084746, 0.04166667],\n",
              "       [0.26174497, 0.22222222, 0.58333333, 0.08474576, 0.04166667],\n",
              "       [0.26845638, 0.19444444, 0.625     , 0.05084746, 0.08333333],\n",
              "       [0.27516779, 0.05555556, 0.125     , 0.05084746, 0.08333333],\n",
              "       [0.28187919, 0.02777778, 0.5       , 0.05084746, 0.04166667],\n",
              "       [0.2885906 , 0.19444444, 0.625     , 0.10169492, 0.20833333],\n",
              "       [0.29530201, 0.22222222, 0.75      , 0.15254237, 0.125     ],\n",
              "       [0.30201342, 0.13888889, 0.41666667, 0.06779661, 0.08333333],\n",
              "       [0.30872483, 0.22222222, 0.75      , 0.10169492, 0.04166667],\n",
              "       [0.31543624, 0.08333333, 0.5       , 0.06779661, 0.04166667],\n",
              "       [0.32214765, 0.27777778, 0.70833333, 0.08474576, 0.04166667],\n",
              "       [0.32885906, 0.19444444, 0.54166667, 0.06779661, 0.04166667],\n",
              "       [0.33557047, 0.75      , 0.5       , 0.62711864, 0.54166667],\n",
              "       [0.34228188, 0.58333333, 0.5       , 0.59322034, 0.58333333],\n",
              "       [0.34899329, 0.72222222, 0.45833333, 0.66101695, 0.58333333],\n",
              "       [0.3557047 , 0.33333333, 0.125     , 0.50847458, 0.5       ],\n",
              "       [0.36241611, 0.61111111, 0.33333333, 0.61016949, 0.58333333],\n",
              "       [0.36912752, 0.38888889, 0.33333333, 0.59322034, 0.5       ],\n",
              "       [0.37583893, 0.55555556, 0.54166667, 0.62711864, 0.625     ],\n",
              "       [0.38255034, 0.16666667, 0.16666667, 0.38983051, 0.375     ],\n",
              "       [0.38926174, 0.63888889, 0.375     , 0.61016949, 0.5       ],\n",
              "       [0.39597315, 0.25      , 0.29166667, 0.49152542, 0.54166667],\n",
              "       [0.40268456, 0.19444444, 0.        , 0.42372881, 0.375     ],\n",
              "       [0.40939597, 0.44444444, 0.41666667, 0.54237288, 0.58333333],\n",
              "       [0.41610738, 0.47222222, 0.08333333, 0.50847458, 0.375     ],\n",
              "       [0.42281879, 0.5       , 0.375     , 0.62711864, 0.54166667],\n",
              "       [0.4295302 , 0.36111111, 0.375     , 0.44067797, 0.5       ],\n",
              "       [0.43624161, 0.66666667, 0.45833333, 0.57627119, 0.54166667],\n",
              "       [0.44295302, 0.36111111, 0.41666667, 0.59322034, 0.58333333],\n",
              "       [0.44966443, 0.41666667, 0.29166667, 0.52542373, 0.375     ],\n",
              "       [0.45637584, 0.52777778, 0.08333333, 0.59322034, 0.58333333],\n",
              "       [0.46308725, 0.36111111, 0.20833333, 0.49152542, 0.41666667],\n",
              "       [0.46979866, 0.44444444, 0.5       , 0.6440678 , 0.70833333],\n",
              "       [0.47651007, 0.5       , 0.33333333, 0.50847458, 0.5       ],\n",
              "       [0.48322148, 0.55555556, 0.20833333, 0.66101695, 0.58333333],\n",
              "       [0.48993289, 0.5       , 0.33333333, 0.62711864, 0.45833333],\n",
              "       [0.4966443 , 0.58333333, 0.375     , 0.55932203, 0.5       ],\n",
              "       [0.5033557 , 0.63888889, 0.41666667, 0.57627119, 0.54166667],\n",
              "       [0.51006711, 0.69444444, 0.33333333, 0.6440678 , 0.54166667],\n",
              "       [0.51677852, 0.66666667, 0.41666667, 0.6779661 , 0.66666667],\n",
              "       [0.52348993, 0.47222222, 0.375     , 0.59322034, 0.58333333],\n",
              "       [0.53020134, 0.38888889, 0.25      , 0.42372881, 0.375     ],\n",
              "       [0.53691275, 0.33333333, 0.16666667, 0.47457627, 0.41666667],\n",
              "       [0.54362416, 0.33333333, 0.16666667, 0.45762712, 0.375     ],\n",
              "       [0.55033557, 0.41666667, 0.29166667, 0.49152542, 0.45833333],\n",
              "       [0.55704698, 0.47222222, 0.29166667, 0.69491525, 0.625     ],\n",
              "       [0.56375839, 0.30555556, 0.41666667, 0.59322034, 0.58333333],\n",
              "       [0.5704698 , 0.47222222, 0.58333333, 0.59322034, 0.625     ],\n",
              "       [0.57718121, 0.66666667, 0.45833333, 0.62711864, 0.58333333],\n",
              "       [0.58389262, 0.55555556, 0.125     , 0.57627119, 0.5       ],\n",
              "       [0.59060403, 0.36111111, 0.41666667, 0.52542373, 0.5       ],\n",
              "       [0.59731544, 0.33333333, 0.20833333, 0.50847458, 0.5       ],\n",
              "       [0.60402685, 0.33333333, 0.25      , 0.57627119, 0.45833333],\n",
              "       [0.61073826, 0.5       , 0.41666667, 0.61016949, 0.54166667],\n",
              "       [0.61744966, 0.41666667, 0.25      , 0.50847458, 0.45833333],\n",
              "       [0.62416107, 0.19444444, 0.125     , 0.38983051, 0.375     ],\n",
              "       [0.63087248, 0.36111111, 0.29166667, 0.54237288, 0.5       ],\n",
              "       [0.63758389, 0.38888889, 0.41666667, 0.54237288, 0.45833333],\n",
              "       [0.6442953 , 0.38888889, 0.375     , 0.54237288, 0.5       ],\n",
              "       [0.65100671, 0.52777778, 0.375     , 0.55932203, 0.5       ],\n",
              "       [0.65771812, 0.22222222, 0.20833333, 0.33898305, 0.41666667],\n",
              "       [0.66442953, 0.38888889, 0.33333333, 0.52542373, 0.5       ],\n",
              "       [0.67114094, 0.55555556, 0.54166667, 0.84745763, 1.        ],\n",
              "       [0.67785235, 0.41666667, 0.29166667, 0.69491525, 0.75      ],\n",
              "       [0.68456376, 0.77777778, 0.41666667, 0.83050847, 0.83333333],\n",
              "       [0.69127517, 0.55555556, 0.375     , 0.77966102, 0.70833333],\n",
              "       [0.69798658, 0.61111111, 0.41666667, 0.81355932, 0.875     ],\n",
              "       [0.70469799, 0.91666667, 0.41666667, 0.94915254, 0.83333333],\n",
              "       [0.7114094 , 0.16666667, 0.20833333, 0.59322034, 0.66666667],\n",
              "       [0.71812081, 0.83333333, 0.375     , 0.89830508, 0.70833333],\n",
              "       [0.72483221, 0.66666667, 0.20833333, 0.81355932, 0.70833333],\n",
              "       [0.73154362, 0.80555556, 0.66666667, 0.86440678, 1.        ],\n",
              "       [0.73825503, 0.61111111, 0.5       , 0.69491525, 0.79166667],\n",
              "       [0.74496644, 0.58333333, 0.29166667, 0.72881356, 0.75      ],\n",
              "       [0.75167785, 0.69444444, 0.41666667, 0.76271186, 0.83333333],\n",
              "       [0.75838926, 0.38888889, 0.20833333, 0.6779661 , 0.79166667],\n",
              "       [0.76510067, 0.41666667, 0.33333333, 0.69491525, 0.95833333],\n",
              "       [0.77181208, 0.58333333, 0.5       , 0.72881356, 0.91666667],\n",
              "       [0.77852349, 0.61111111, 0.41666667, 0.76271186, 0.70833333],\n",
              "       [0.7852349 , 0.94444444, 0.75      , 0.96610169, 0.875     ],\n",
              "       [0.79194631, 0.94444444, 0.25      , 1.        , 0.91666667],\n",
              "       [0.79865772, 0.47222222, 0.08333333, 0.6779661 , 0.58333333],\n",
              "       [0.80536913, 0.72222222, 0.5       , 0.79661017, 0.91666667],\n",
              "       [0.81208054, 0.36111111, 0.33333333, 0.66101695, 0.79166667],\n",
              "       [0.81879195, 0.94444444, 0.33333333, 0.96610169, 0.79166667],\n",
              "       [0.82550336, 0.55555556, 0.29166667, 0.66101695, 0.70833333],\n",
              "       [0.83221477, 0.66666667, 0.54166667, 0.79661017, 0.83333333],\n",
              "       [0.83892617, 0.80555556, 0.5       , 0.84745763, 0.70833333],\n",
              "       [0.84563758, 0.52777778, 0.33333333, 0.6440678 , 0.70833333],\n",
              "       [0.85234899, 0.5       , 0.41666667, 0.66101695, 0.70833333],\n",
              "       [0.8590604 , 0.58333333, 0.33333333, 0.77966102, 0.83333333],\n",
              "       [0.86577181, 0.80555556, 0.41666667, 0.81355932, 0.625     ],\n",
              "       [0.87248322, 0.86111111, 0.33333333, 0.86440678, 0.75      ],\n",
              "       [0.87919463, 1.        , 0.75      , 0.91525424, 0.79166667],\n",
              "       [0.88590604, 0.58333333, 0.33333333, 0.77966102, 0.875     ],\n",
              "       [0.89261745, 0.55555556, 0.33333333, 0.69491525, 0.58333333],\n",
              "       [0.89932886, 0.5       , 0.25      , 0.77966102, 0.54166667],\n",
              "       [0.90604027, 0.94444444, 0.41666667, 0.86440678, 0.91666667],\n",
              "       [0.91275168, 0.55555556, 0.58333333, 0.77966102, 0.95833333],\n",
              "       [0.91946309, 0.58333333, 0.45833333, 0.76271186, 0.70833333],\n",
              "       [0.9261745 , 0.47222222, 0.41666667, 0.6440678 , 0.70833333],\n",
              "       [0.93288591, 0.72222222, 0.45833333, 0.74576271, 0.83333333],\n",
              "       [0.93959732, 0.66666667, 0.45833333, 0.77966102, 0.95833333],\n",
              "       [0.94630872, 0.72222222, 0.45833333, 0.69491525, 0.91666667],\n",
              "       [0.95302013, 0.41666667, 0.29166667, 0.69491525, 0.75      ],\n",
              "       [0.95973154, 0.69444444, 0.5       , 0.83050847, 0.91666667],\n",
              "       [0.96644295, 0.66666667, 0.54166667, 0.79661017, 1.        ],\n",
              "       [0.97315436, 0.66666667, 0.41666667, 0.71186441, 0.91666667],\n",
              "       [0.97986577, 0.55555556, 0.20833333, 0.6779661 , 0.75      ],\n",
              "       [0.98657718, 0.61111111, 0.41666667, 0.71186441, 0.79166667],\n",
              "       [0.99328859, 0.52777778, 0.58333333, 0.74576271, 0.91666667],\n",
              "       [1.        , 0.44444444, 0.41666667, 0.69491525, 0.70833333]])"
            ]
          },
          "metadata": {},
          "execution_count": 12
        }
      ]
    },
    {
      "cell_type": "markdown",
      "source": [
        "split dataset menjadi **training set**, **validation set**, dan **test set** menggunakan **train_test_split**\n",
        "\n",
        "karena **train_test_split** hanya bisa membagi data menjadi 2 bagian, tapi kita ingin membagi 3 , maka kita lakukan 2 tahap:\n",
        "\n",
        "\n",
        "1.   Membagi dataset menjadi data training dan data validation&test(30%)\n",
        "2.   Membagi data validation&test menjadi data validation dan data test(50%)"
      ],
      "metadata": {
        "id": "1HRJETtQqsN3"
      }
    },
    {
      "cell_type": "code",
      "source": [
        "from sklearn.model_selection import train_test_split"
      ],
      "metadata": {
        "id": "T0wvvsmHqq-Z"
      },
      "execution_count": 13,
      "outputs": []
    },
    {
      "cell_type": "code",
      "source": [
        "X_train, X_val_and_test, Y_train, Y_val_and_test = train_test_split(X_scale, Y, test_size=0.3)"
      ],
      "metadata": {
        "id": "bTKpbyxsrHiS"
      },
      "execution_count": 14,
      "outputs": []
    },
    {
      "cell_type": "code",
      "source": [
        "X_val, X_test, Y_val, Y_test = train_test_split(X_val_and_test, Y_val_and_test, test_size=0.5)"
      ],
      "metadata": {
        "id": "arOmXUbTrHvl"
      },
      "execution_count": 15,
      "outputs": []
    },
    {
      "cell_type": "code",
      "source": [
        "print(X_train.shape, X_val.shape, X_test.shape, Y_train.shape, Y_val.shape, Y_test.shape)"
      ],
      "metadata": {
        "id": "YzL-rMpWrILB",
        "colab": {
          "base_uri": "https://localhost:8080/"
        },
        "outputId": "9b9af629-50e9-4ffc-d7b6-934dd5e3a303"
      },
      "execution_count": 16,
      "outputs": [
        {
          "output_type": "stream",
          "name": "stdout",
          "text": [
            "(105, 5) (22, 5) (23, 5) (105,) (22,) (23,)\n"
          ]
        }
      ]
    },
    {
      "cell_type": "markdown",
      "source": [
        "jadi terdapat 6 variabel dataset:\n",
        "\n",
        "1.   X_train (5 input features, 70% of full dataset)\n",
        "2.   X_val (5 input features, 15% of full dataset)\n",
        "3.   X_test (5 input features, 15% of full dataset)\n",
        "4.   Y_train (1 label, 70% of full dataset)\n",
        "5.   Y_val (1 label, 15% of full dataset)\n",
        "6.   Y_test (1 label, 15% of full dataset)"
      ],
      "metadata": {
        "id": "LJLEBhKYtOkj"
      }
    },
    {
      "cell_type": "markdown",
      "metadata": {
        "id": "gOqFuG1p5ugX"
      },
      "source": [
        "# Building and Training Neural Network"
      ]
    },
    {
      "cell_type": "code",
      "source": [
        "from keras.models import Sequential\n",
        "from keras.layers import Dense"
      ],
      "metadata": {
        "id": "iUXvjRzXt7CF"
      },
      "execution_count": 17,
      "outputs": []
    },
    {
      "cell_type": "markdown",
      "source": [
        "Membuat arsitektur ML dengan detail:\n",
        "\n",
        "*   Input Layer : 5 neuron\n",
        "*   Hidden layer 1: 32 neurons, ReLU activation\n",
        "*   Hidden layer 2: 32 neurons, ReLU activation\n",
        "*   Output Layer: 1 neuron, Sigmoid activation\n",
        "\n",
        "Arsitektur ini dibuat dalam model Sequential menggunakan Keras"
      ],
      "metadata": {
        "id": "-cmWU9Ip7S93"
      }
    },
    {
      "cell_type": "code",
      "source": [
        "model = Sequential([\n",
        "    Dense(32, activation='relu', input_shape=(5,)),\n",
        "    Dense(32, activation='relu'),\n",
        "    Dense(1, activation='sigmoid'),\n",
        "])"
      ],
      "metadata": {
        "id": "ABcgJgqLDUvY"
      },
      "execution_count": 18,
      "outputs": []
    },
    {
      "cell_type": "markdown",
      "source": [
        "melakukan konfigurasi model 1 sebelum training:\n",
        "\n",
        "- Telling it what algorithm you want to use to do the optimization (we'll use **stochastic gradient descent = 'sgd'**)\n",
        "- Telling it what loss function to use (for binary classification, we will use **'binary cross entropy = 'binary_crossentropy'**)\n",
        "- Telling it what other metrics you want to track apart from the loss function (we want to track **accuracy as well = 'accuracy'**)\n"
      ],
      "metadata": {
        "id": "sO-n-Q-jLoc6"
      }
    },
    {
      "cell_type": "code",
      "source": [
        "model.compile(optimizer='sgd',\n",
        "              loss='binary_crossentropy',\n",
        "              metrics=['accuracy'])"
      ],
      "metadata": {
        "id": "a-bgCyPKKbXf"
      },
      "execution_count": 19,
      "outputs": []
    },
    {
      "cell_type": "markdown",
      "source": [
        "melakukan training data menggunakan function fit dengan parameter:\n",
        "\n",
        "- what data we are training on, which is X_train and Y_train\n",
        "- the size of our mini-batch \n",
        "- how long we want to train it for (epochs)\n",
        "- what our validation data is so that the model will tell us how we are doing on the validation data at each point.\n",
        "\n",
        "This function will output a history, which we save under the variable hist. We'll use this variable a little later."
      ],
      "metadata": {
        "id": "qSYHgxKdOHg4"
      }
    },
    {
      "cell_type": "code",
      "source": [
        "hist = model.fit(X_train, Y_train,\n",
        "          batch_size=32, epochs=100,\n",
        "          validation_data=(X_val, Y_val))"
      ],
      "metadata": {
        "id": "L_3_d2d6Mi-d",
        "colab": {
          "base_uri": "https://localhost:8080/"
        },
        "outputId": "4706d05b-ad95-4789-dfa1-46802a3e3531"
      },
      "execution_count": 20,
      "outputs": [
        {
          "output_type": "stream",
          "name": "stdout",
          "text": [
            "Epoch 1/100\n",
            "4/4 [==============================] - 1s 73ms/step - loss: 0.9073 - accuracy: 0.1905 - val_loss: 0.8510 - val_accuracy: 0.0455\n",
            "Epoch 2/100\n",
            "4/4 [==============================] - 0s 12ms/step - loss: 0.7971 - accuracy: 0.0095 - val_loss: 0.7401 - val_accuracy: 0.1364\n",
            "Epoch 3/100\n",
            "4/4 [==============================] - 0s 11ms/step - loss: 0.7009 - accuracy: 0.3143 - val_loss: 0.6448 - val_accuracy: 0.2727\n",
            "Epoch 4/100\n",
            "4/4 [==============================] - 0s 14ms/step - loss: 0.6152 - accuracy: 0.3905 - val_loss: 0.5449 - val_accuracy: 0.2727\n",
            "Epoch 5/100\n",
            "4/4 [==============================] - 0s 13ms/step - loss: 0.5268 - accuracy: 0.3905 - val_loss: 0.4503 - val_accuracy: 0.2727\n",
            "Epoch 6/100\n",
            "4/4 [==============================] - 0s 10ms/step - loss: 0.4447 - accuracy: 0.3905 - val_loss: 0.3739 - val_accuracy: 0.2727\n",
            "Epoch 7/100\n",
            "4/4 [==============================] - 0s 13ms/step - loss: 0.3768 - accuracy: 0.3905 - val_loss: 0.2955 - val_accuracy: 0.2727\n",
            "Epoch 8/100\n",
            "4/4 [==============================] - 0s 10ms/step - loss: 0.3091 - accuracy: 0.3905 - val_loss: 0.2275 - val_accuracy: 0.2727\n",
            "Epoch 9/100\n",
            "4/4 [==============================] - 0s 13ms/step - loss: 0.2493 - accuracy: 0.3905 - val_loss: 0.1593 - val_accuracy: 0.2727\n",
            "Epoch 10/100\n",
            "4/4 [==============================] - 0s 10ms/step - loss: 0.1899 - accuracy: 0.3905 - val_loss: 0.1026 - val_accuracy: 0.2727\n",
            "Epoch 11/100\n",
            "4/4 [==============================] - 0s 10ms/step - loss: 0.1397 - accuracy: 0.3905 - val_loss: 0.0501 - val_accuracy: 0.2727\n",
            "Epoch 12/100\n",
            "4/4 [==============================] - 0s 10ms/step - loss: 0.0924 - accuracy: 0.3905 - val_loss: -0.0052 - val_accuracy: 0.2727\n",
            "Epoch 13/100\n",
            "4/4 [==============================] - 0s 11ms/step - loss: 0.0442 - accuracy: 0.3905 - val_loss: -0.0599 - val_accuracy: 0.2727\n",
            "Epoch 14/100\n",
            "4/4 [==============================] - 0s 11ms/step - loss: -0.0061 - accuracy: 0.3905 - val_loss: -0.1216 - val_accuracy: 0.2727\n",
            "Epoch 15/100\n",
            "4/4 [==============================] - 0s 11ms/step - loss: -0.0621 - accuracy: 0.3905 - val_loss: -0.1939 - val_accuracy: 0.2727\n",
            "Epoch 16/100\n",
            "4/4 [==============================] - 0s 11ms/step - loss: -0.1243 - accuracy: 0.3905 - val_loss: -0.2452 - val_accuracy: 0.2727\n",
            "Epoch 17/100\n",
            "4/4 [==============================] - 0s 14ms/step - loss: -0.1715 - accuracy: 0.3905 - val_loss: -0.3182 - val_accuracy: 0.2727\n",
            "Epoch 18/100\n",
            "4/4 [==============================] - 0s 11ms/step - loss: -0.2355 - accuracy: 0.3905 - val_loss: -0.3785 - val_accuracy: 0.2727\n",
            "Epoch 19/100\n",
            "4/4 [==============================] - 0s 12ms/step - loss: -0.2886 - accuracy: 0.3905 - val_loss: -0.4415 - val_accuracy: 0.2727\n",
            "Epoch 20/100\n",
            "4/4 [==============================] - 0s 11ms/step - loss: -0.3439 - accuracy: 0.3905 - val_loss: -0.5063 - val_accuracy: 0.2727\n",
            "Epoch 21/100\n",
            "4/4 [==============================] - 0s 11ms/step - loss: -0.3991 - accuracy: 0.3905 - val_loss: -0.5737 - val_accuracy: 0.2727\n",
            "Epoch 22/100\n",
            "4/4 [==============================] - 0s 13ms/step - loss: -0.4597 - accuracy: 0.3905 - val_loss: -0.6534 - val_accuracy: 0.2727\n",
            "Epoch 23/100\n",
            "4/4 [==============================] - 0s 11ms/step - loss: -0.5277 - accuracy: 0.3905 - val_loss: -0.7297 - val_accuracy: 0.2727\n",
            "Epoch 24/100\n",
            "4/4 [==============================] - 0s 11ms/step - loss: -0.5936 - accuracy: 0.3905 - val_loss: -0.8077 - val_accuracy: 0.2727\n",
            "Epoch 25/100\n",
            "4/4 [==============================] - 0s 10ms/step - loss: -0.6590 - accuracy: 0.3905 - val_loss: -0.8949 - val_accuracy: 0.2727\n",
            "Epoch 26/100\n",
            "4/4 [==============================] - 0s 13ms/step - loss: -0.7365 - accuracy: 0.3905 - val_loss: -1.0087 - val_accuracy: 0.2727\n",
            "Epoch 27/100\n",
            "4/4 [==============================] - 0s 10ms/step - loss: -0.8287 - accuracy: 0.3905 - val_loss: -1.0782 - val_accuracy: 0.2727\n",
            "Epoch 28/100\n",
            "4/4 [==============================] - 0s 9ms/step - loss: -0.8920 - accuracy: 0.3905 - val_loss: -1.1865 - val_accuracy: 0.2727\n",
            "Epoch 29/100\n",
            "4/4 [==============================] - 0s 9ms/step - loss: -0.9828 - accuracy: 0.3905 - val_loss: -1.2774 - val_accuracy: 0.2727\n",
            "Epoch 30/100\n",
            "4/4 [==============================] - 0s 11ms/step - loss: -1.0629 - accuracy: 0.3905 - val_loss: -1.4163 - val_accuracy: 0.2727\n",
            "Epoch 31/100\n",
            "4/4 [==============================] - 0s 10ms/step - loss: -1.1756 - accuracy: 0.3905 - val_loss: -1.5310 - val_accuracy: 0.2727\n",
            "Epoch 32/100\n",
            "4/4 [==============================] - 0s 11ms/step - loss: -1.2765 - accuracy: 0.3905 - val_loss: -1.6619 - val_accuracy: 0.2727\n",
            "Epoch 33/100\n",
            "4/4 [==============================] - 0s 11ms/step - loss: -1.3861 - accuracy: 0.3905 - val_loss: -1.8272 - val_accuracy: 0.2727\n",
            "Epoch 34/100\n",
            "4/4 [==============================] - 0s 11ms/step - loss: -1.5276 - accuracy: 0.3905 - val_loss: -1.9804 - val_accuracy: 0.2727\n",
            "Epoch 35/100\n",
            "4/4 [==============================] - 0s 10ms/step - loss: -1.6590 - accuracy: 0.3905 - val_loss: -2.1755 - val_accuracy: 0.2727\n",
            "Epoch 36/100\n",
            "4/4 [==============================] - 0s 11ms/step - loss: -1.8178 - accuracy: 0.3905 - val_loss: -2.3776 - val_accuracy: 0.2727\n",
            "Epoch 37/100\n",
            "4/4 [==============================] - 0s 14ms/step - loss: -1.9839 - accuracy: 0.3905 - val_loss: -2.5543 - val_accuracy: 0.2727\n",
            "Epoch 38/100\n",
            "4/4 [==============================] - 0s 10ms/step - loss: -2.1462 - accuracy: 0.3905 - val_loss: -2.8093 - val_accuracy: 0.2727\n",
            "Epoch 39/100\n",
            "4/4 [==============================] - 0s 10ms/step - loss: -2.3586 - accuracy: 0.3905 - val_loss: -3.0262 - val_accuracy: 0.2727\n",
            "Epoch 40/100\n",
            "4/4 [==============================] - 0s 11ms/step - loss: -2.5438 - accuracy: 0.3905 - val_loss: -3.2745 - val_accuracy: 0.2727\n",
            "Epoch 41/100\n",
            "4/4 [==============================] - 0s 11ms/step - loss: -2.7568 - accuracy: 0.3905 - val_loss: -3.5665 - val_accuracy: 0.2727\n",
            "Epoch 42/100\n",
            "4/4 [==============================] - 0s 10ms/step - loss: -3.0009 - accuracy: 0.3905 - val_loss: -3.8679 - val_accuracy: 0.2727\n",
            "Epoch 43/100\n",
            "4/4 [==============================] - 0s 11ms/step - loss: -3.2670 - accuracy: 0.3905 - val_loss: -4.3038 - val_accuracy: 0.2727\n",
            "Epoch 44/100\n",
            "4/4 [==============================] - 0s 11ms/step - loss: -3.6316 - accuracy: 0.3905 - val_loss: -4.8251 - val_accuracy: 0.2727\n",
            "Epoch 45/100\n",
            "4/4 [==============================] - 0s 10ms/step - loss: -4.0809 - accuracy: 0.3905 - val_loss: -5.3232 - val_accuracy: 0.2727\n",
            "Epoch 46/100\n",
            "4/4 [==============================] - 0s 10ms/step - loss: -4.5017 - accuracy: 0.3905 - val_loss: -5.9275 - val_accuracy: 0.2727\n",
            "Epoch 47/100\n",
            "4/4 [==============================] - 0s 10ms/step - loss: -5.0126 - accuracy: 0.3905 - val_loss: -6.6283 - val_accuracy: 0.2727\n",
            "Epoch 48/100\n",
            "4/4 [==============================] - 0s 13ms/step - loss: -5.6288 - accuracy: 0.3905 - val_loss: -7.4473 - val_accuracy: 0.2727\n",
            "Epoch 49/100\n",
            "4/4 [==============================] - 0s 13ms/step - loss: -6.3155 - accuracy: 0.3905 - val_loss: -8.3943 - val_accuracy: 0.2727\n",
            "Epoch 50/100\n",
            "4/4 [==============================] - 0s 14ms/step - loss: -7.1557 - accuracy: 0.3905 - val_loss: -9.7389 - val_accuracy: 0.2727\n",
            "Epoch 51/100\n",
            "4/4 [==============================] - 0s 10ms/step - loss: -8.2995 - accuracy: 0.3905 - val_loss: -10.9971 - val_accuracy: 0.2727\n",
            "Epoch 52/100\n",
            "4/4 [==============================] - 0s 11ms/step - loss: -9.3623 - accuracy: 0.3905 - val_loss: -12.6334 - val_accuracy: 0.2727\n",
            "Epoch 53/100\n",
            "4/4 [==============================] - 0s 11ms/step - loss: -10.8046 - accuracy: 0.3905 - val_loss: -14.4947 - val_accuracy: 0.2727\n",
            "Epoch 54/100\n",
            "4/4 [==============================] - 0s 13ms/step - loss: -12.3968 - accuracy: 0.3905 - val_loss: -16.6731 - val_accuracy: 0.2727\n",
            "Epoch 55/100\n",
            "4/4 [==============================] - 0s 10ms/step - loss: -14.2588 - accuracy: 0.3905 - val_loss: -18.9822 - val_accuracy: 0.2727\n",
            "Epoch 56/100\n",
            "4/4 [==============================] - 0s 11ms/step - loss: -16.3009 - accuracy: 0.3905 - val_loss: -21.8422 - val_accuracy: 0.2727\n",
            "Epoch 57/100\n",
            "4/4 [==============================] - 0s 10ms/step - loss: -18.7587 - accuracy: 0.3905 - val_loss: -25.1524 - val_accuracy: 0.2727\n",
            "Epoch 58/100\n",
            "4/4 [==============================] - 0s 11ms/step - loss: -21.7623 - accuracy: 0.3905 - val_loss: -30.1305 - val_accuracy: 0.2727\n",
            "Epoch 59/100\n",
            "4/4 [==============================] - 0s 11ms/step - loss: -26.1574 - accuracy: 0.3905 - val_loss: -36.1437 - val_accuracy: 0.2727\n",
            "Epoch 60/100\n",
            "4/4 [==============================] - 0s 12ms/step - loss: -31.4871 - accuracy: 0.3905 - val_loss: -43.7996 - val_accuracy: 0.2727\n",
            "Epoch 61/100\n",
            "4/4 [==============================] - 0s 11ms/step - loss: -37.9995 - accuracy: 0.3905 - val_loss: -53.6529 - val_accuracy: 0.2727\n",
            "Epoch 62/100\n",
            "4/4 [==============================] - 0s 12ms/step - loss: -46.8984 - accuracy: 0.3905 - val_loss: -65.5606 - val_accuracy: 0.2727\n",
            "Epoch 63/100\n",
            "4/4 [==============================] - 0s 10ms/step - loss: -57.1498 - accuracy: 0.3905 - val_loss: -83.2867 - val_accuracy: 0.2727\n",
            "Epoch 64/100\n",
            "4/4 [==============================] - 0s 10ms/step - loss: -73.9319 - accuracy: 0.3905 - val_loss: -107.0969 - val_accuracy: 0.2727\n",
            "Epoch 65/100\n",
            "4/4 [==============================] - 0s 14ms/step - loss: -95.6114 - accuracy: 0.3905 - val_loss: -145.6282 - val_accuracy: 0.2727\n",
            "Epoch 66/100\n",
            "4/4 [==============================] - 0s 12ms/step - loss: -131.7895 - accuracy: 0.3905 - val_loss: -209.6629 - val_accuracy: 0.2727\n",
            "Epoch 67/100\n",
            "4/4 [==============================] - 0s 12ms/step - loss: -192.0834 - accuracy: 0.3905 - val_loss: -303.0623 - val_accuracy: 0.2727\n",
            "Epoch 68/100\n",
            "4/4 [==============================] - 0s 12ms/step - loss: -281.5475 - accuracy: 0.3905 - val_loss: -461.4888 - val_accuracy: 0.2727\n",
            "Epoch 69/100\n",
            "4/4 [==============================] - 0s 13ms/step - loss: -437.0083 - accuracy: 0.3905 - val_loss: -756.6807 - val_accuracy: 0.2727\n",
            "Epoch 70/100\n",
            "4/4 [==============================] - 0s 10ms/step - loss: -735.9874 - accuracy: 0.3905 - val_loss: -1309.2352 - val_accuracy: 0.2727\n",
            "Epoch 71/100\n",
            "4/4 [==============================] - 0s 11ms/step - loss: -1295.0198 - accuracy: 0.3905 - val_loss: -2610.5896 - val_accuracy: 0.2727\n",
            "Epoch 72/100\n",
            "4/4 [==============================] - 0s 10ms/step - loss: -2750.5916 - accuracy: 0.3905 - val_loss: -6050.5078 - val_accuracy: 0.2727\n",
            "Epoch 73/100\n",
            "4/4 [==============================] - 0s 11ms/step - loss: -7044.9458 - accuracy: 0.3905 - val_loss: -20603.2480 - val_accuracy: 0.2727\n",
            "Epoch 74/100\n",
            "4/4 [==============================] - 0s 10ms/step - loss: -29042.0723 - accuracy: 0.3905 - val_loss: -189608.1406 - val_accuracy: 0.2727\n",
            "Epoch 75/100\n",
            "4/4 [==============================] - 0s 10ms/step - loss: -619355.1875 - accuracy: 0.3905 - val_loss: -14975505.0000 - val_accuracy: 0.2727\n",
            "Epoch 76/100\n",
            "4/4 [==============================] - 0s 11ms/step - loss: -1537182007296.0000 - accuracy: 0.3905 - val_loss: -48742797416612233216.0000 - val_accuracy: 0.2727\n",
            "Epoch 77/100\n",
            "4/4 [==============================] - 0s 10ms/step - loss: nan - accuracy: 0.4095 - val_loss: nan - val_accuracy: 0.3636\n",
            "Epoch 78/100\n",
            "4/4 [==============================] - 0s 11ms/step - loss: nan - accuracy: 0.3048 - val_loss: nan - val_accuracy: 0.3636\n",
            "Epoch 79/100\n",
            "4/4 [==============================] - 0s 10ms/step - loss: nan - accuracy: 0.3048 - val_loss: nan - val_accuracy: 0.3636\n",
            "Epoch 80/100\n",
            "4/4 [==============================] - 0s 11ms/step - loss: nan - accuracy: 0.3048 - val_loss: nan - val_accuracy: 0.3636\n",
            "Epoch 81/100\n",
            "4/4 [==============================] - 0s 11ms/step - loss: nan - accuracy: 0.3048 - val_loss: nan - val_accuracy: 0.3636\n",
            "Epoch 82/100\n",
            "4/4 [==============================] - 0s 12ms/step - loss: nan - accuracy: 0.3048 - val_loss: nan - val_accuracy: 0.3636\n",
            "Epoch 83/100\n",
            "4/4 [==============================] - 0s 10ms/step - loss: nan - accuracy: 0.3048 - val_loss: nan - val_accuracy: 0.3636\n",
            "Epoch 84/100\n",
            "4/4 [==============================] - 0s 11ms/step - loss: nan - accuracy: 0.3048 - val_loss: nan - val_accuracy: 0.3636\n",
            "Epoch 85/100\n",
            "4/4 [==============================] - 0s 11ms/step - loss: nan - accuracy: 0.3048 - val_loss: nan - val_accuracy: 0.3636\n",
            "Epoch 86/100\n",
            "4/4 [==============================] - 0s 11ms/step - loss: nan - accuracy: 0.3048 - val_loss: nan - val_accuracy: 0.3636\n",
            "Epoch 87/100\n",
            "4/4 [==============================] - 0s 12ms/step - loss: nan - accuracy: 0.3048 - val_loss: nan - val_accuracy: 0.3636\n",
            "Epoch 88/100\n",
            "4/4 [==============================] - 0s 11ms/step - loss: nan - accuracy: 0.3048 - val_loss: nan - val_accuracy: 0.3636\n",
            "Epoch 89/100\n",
            "4/4 [==============================] - 0s 10ms/step - loss: nan - accuracy: 0.3048 - val_loss: nan - val_accuracy: 0.3636\n",
            "Epoch 90/100\n",
            "4/4 [==============================] - 0s 10ms/step - loss: nan - accuracy: 0.3048 - val_loss: nan - val_accuracy: 0.3636\n",
            "Epoch 91/100\n",
            "4/4 [==============================] - 0s 14ms/step - loss: nan - accuracy: 0.3048 - val_loss: nan - val_accuracy: 0.3636\n",
            "Epoch 92/100\n",
            "4/4 [==============================] - 0s 12ms/step - loss: nan - accuracy: 0.3048 - val_loss: nan - val_accuracy: 0.3636\n",
            "Epoch 93/100\n",
            "4/4 [==============================] - 0s 11ms/step - loss: nan - accuracy: 0.3048 - val_loss: nan - val_accuracy: 0.3636\n",
            "Epoch 94/100\n",
            "4/4 [==============================] - 0s 11ms/step - loss: nan - accuracy: 0.3048 - val_loss: nan - val_accuracy: 0.3636\n",
            "Epoch 95/100\n",
            "4/4 [==============================] - 0s 10ms/step - loss: nan - accuracy: 0.3048 - val_loss: nan - val_accuracy: 0.3636\n",
            "Epoch 96/100\n",
            "4/4 [==============================] - 0s 11ms/step - loss: nan - accuracy: 0.3048 - val_loss: nan - val_accuracy: 0.3636\n",
            "Epoch 97/100\n",
            "4/4 [==============================] - 0s 11ms/step - loss: nan - accuracy: 0.3048 - val_loss: nan - val_accuracy: 0.3636\n",
            "Epoch 98/100\n",
            "4/4 [==============================] - 0s 13ms/step - loss: nan - accuracy: 0.3048 - val_loss: nan - val_accuracy: 0.3636\n",
            "Epoch 99/100\n",
            "4/4 [==============================] - 0s 12ms/step - loss: nan - accuracy: 0.3048 - val_loss: nan - val_accuracy: 0.3636\n",
            "Epoch 100/100\n",
            "4/4 [==============================] - 0s 12ms/step - loss: nan - accuracy: 0.3048 - val_loss: nan - val_accuracy: 0.3636\n"
          ]
        }
      ]
    },
    {
      "cell_type": "markdown",
      "source": [
        "berdasarkan training data yang telah dilakukan, dapat dilihat bahwa nilai loss mengalami pengurangan dan nilai accuracy mengalami peningkatan"
      ],
      "metadata": {
        "id": "Erw6SghosPJ6"
      }
    },
    {
      "cell_type": "markdown",
      "source": [
        "berikutnya lakukan evaluasi model untuk melihat nilai accuracy-nya"
      ],
      "metadata": {
        "id": "EGQIO8Trs5D5"
      }
    },
    {
      "cell_type": "code",
      "source": [
        "model.evaluate(X_test, Y_test)[1]"
      ],
      "metadata": {
        "id": "JuNljQr7KcBL",
        "colab": {
          "base_uri": "https://localhost:8080/"
        },
        "outputId": "fefbf045-42c7-435f-dcc6-64b695a32f28"
      },
      "execution_count": 22,
      "outputs": [
        {
          "output_type": "stream",
          "name": "stdout",
          "text": [
            "1/1 [==============================] - 0s 25ms/step - loss: nan - accuracy: 0.4348\n"
          ]
        },
        {
          "output_type": "execute_result",
          "data": {
            "text/plain": [
              "0.43478259444236755"
            ]
          },
          "metadata": {},
          "execution_count": 22
        }
      ]
    },
    {
      "cell_type": "markdown",
      "source": [
        "# Visualizing Loss and Accuracy\n"
      ],
      "metadata": {
        "id": "86CWri-9tT-T"
      }
    },
    {
      "cell_type": "code",
      "execution_count": 23,
      "metadata": {
        "id": "-YYvjGXy5ugd"
      },
      "outputs": [],
      "source": [
        "import matplotlib.pyplot as plt"
      ]
    },
    {
      "cell_type": "code",
      "source": [
        "plt.plot(hist.history['loss'])\n",
        "plt.plot(hist.history['val_loss'])\n",
        "plt.title('Model loss')\n",
        "plt.ylabel('Loss')\n",
        "plt.xlabel('Epoch')\n",
        "plt.legend(['Train', 'Val'], loc='upper right')\n",
        "plt.show()"
      ],
      "metadata": {
        "colab": {
          "base_uri": "https://localhost:8080/",
          "height": 295
        },
        "id": "INJ7YxRgtL37",
        "outputId": "921640d8-9b8c-42ce-c8da-cc83e81970e1"
      },
      "execution_count": 24,
      "outputs": [
        {
          "output_type": "display_data",
          "data": {
            "text/plain": [
              "<Figure size 432x288 with 1 Axes>"
            ],
            "image/png": "[encoded data removed]"
          },
          "metadata": {
            "needs_background": "light"
          }
        }
      ]
    },
    {
      "cell_type": "code",
      "source": [
        "plt.plot(hist.history['accuracy'])\n",
        "plt.plot(hist.history['accuracy'])\n",
        "plt.title('Model accuracy')\n",
        "plt.ylabel('Accuracy')\n",
        "plt.xlabel('Epoch')\n",
        "plt.legend(['Train', 'Val'], loc='lower right')\n",
        "plt.show()"
      ],
      "metadata": {
        "colab": {
          "base_uri": "https://localhost:8080/",
          "height": 295
        },
        "id": "hUyE7Unytvya",
        "outputId": "cb502941-6593-468b-edec-fa8939526e7d"
      },
      "execution_count": 25,
      "outputs": [
        {
          "output_type": "display_data",
          "data": {
            "text/plain": [
              "<Figure size 432x288 with 1 Axes>"
            ],
            "image/png": "[encoded data removed]"
          },
          "metadata": {
            "needs_background": "light"
          }
        }
      ]
    },
    {
      "cell_type": "markdown",
      "source": [
        "# Adding Regularization to our Neural Network"
      ],
      "metadata": {
        "id": "yrc8aPUct4mW"
      }
    },
    {
      "cell_type": "markdown",
      "source": [
        "Membuat model 2 dalam model sequentialdengan detail :\n",
        "\n",
        "*   Input Layer : 5 neuron\n",
        "*   Hidden layer 1: 1000 neurons, ReLU activation\n",
        "*   Hidden layer 2: 1000 neurons, ReLU activation\n",
        "*   Hidden layer 3: 1000 neurons, ReLU activation\n",
        "*   Hidden layer 4: 1000 neurons, ReLU activation\n",
        "*   Output Layer: 1 neuron, Sigmoid activation\n",
        "*   optimization algorithm = **'adam'**\n",
        "*   loss function = **'binary_crossentropy'**\n",
        "*   other metrics used to track apart from the loss function = 'accuracy'\n"
      ],
      "metadata": {
        "id": "YDpqaWZw4rOx"
      }
    },
    {
      "cell_type": "code",
      "source": [
        "model_2 = Sequential([\n",
        "    Dense(1000, activation='relu', input_shape=(5,)),\n",
        "    Dense(1000, activation='relu'),\n",
        "    Dense(1000, activation='relu'),\n",
        "    Dense(1000, activation='relu'),\n",
        "    Dense(1, activation='sigmoid'),\n",
        "])\n",
        "\n",
        "model_2.compile(optimizer='adam',\n",
        "              loss='binary_crossentropy',\n",
        "              metrics=['accuracy'])\n",
        "\n",
        "hist_2 = model_2.fit(X_train, Y_train,\n",
        "          batch_size=32, epochs=100,\n",
        "          validation_data=(X_val, Y_val))"
      ],
      "metadata": {
        "colab": {
          "base_uri": "https://localhost:8080/"
        },
        "id": "7uUuISGGtO20",
        "outputId": "7a2fdf18-aa76-4583-c96f-e62cfdfc8dc0"
      },
      "execution_count": 26,
      "outputs": [
        {
          "output_type": "stream",
          "name": "stdout",
          "text": [
            "Epoch 1/100\n",
            "4/4 [==============================] - 1s 87ms/step - loss: 0.4134 - accuracy: 0.3619 - val_loss: -1.3509 - val_accuracy: 0.2727\n",
            "Epoch 2/100\n",
            "4/4 [==============================] - 0s 39ms/step - loss: -2.1964 - accuracy: 0.3905 - val_loss: -9.9171 - val_accuracy: 0.2727\n",
            "Epoch 3/100\n",
            "4/4 [==============================] - 0s 42ms/step - loss: -13.4876 - accuracy: 0.4190 - val_loss: -38.8092 - val_accuracy: 0.4545\n",
            "Epoch 4/100\n",
            "4/4 [==============================] - 0s 37ms/step - loss: -45.4804 - accuracy: 0.4952 - val_loss: -121.0374 - val_accuracy: 0.4545\n",
            "Epoch 5/100\n",
            "4/4 [==============================] - 0s 41ms/step - loss: -135.1423 - accuracy: 0.4762 - val_loss: -316.1109 - val_accuracy: 0.4091\n",
            "Epoch 6/100\n",
            "4/4 [==============================] - 0s 43ms/step - loss: -346.4561 - accuracy: 0.4667 - val_loss: -734.9252 - val_accuracy: 0.3636\n",
            "Epoch 7/100\n",
            "4/4 [==============================] - 0s 52ms/step - loss: -744.4033 - accuracy: 0.4381 - val_loss: -1564.7012 - val_accuracy: 0.4091\n",
            "Epoch 8/100\n",
            "4/4 [==============================] - 0s 46ms/step - loss: -1643.5792 - accuracy: 0.4667 - val_loss: -3145.6716 - val_accuracy: 0.4091\n",
            "Epoch 9/100\n",
            "4/4 [==============================] - 0s 49ms/step - loss: -3098.0498 - accuracy: 0.4762 - val_loss: -5848.7847 - val_accuracy: 0.4545\n",
            "Epoch 10/100\n",
            "4/4 [==============================] - 0s 45ms/step - loss: -5797.1855 - accuracy: 0.5048 - val_loss: -10305.7598 - val_accuracy: 0.4545\n",
            "Epoch 11/100\n",
            "4/4 [==============================] - 0s 45ms/step - loss: -9641.7715 - accuracy: 0.4952 - val_loss: -17640.2266 - val_accuracy: 0.4545\n",
            "Epoch 12/100\n",
            "4/4 [==============================] - 0s 39ms/step - loss: -16497.1484 - accuracy: 0.4952 - val_loss: -28612.7422 - val_accuracy: 0.4545\n",
            "Epoch 13/100\n",
            "4/4 [==============================] - 0s 39ms/step - loss: -27352.6152 - accuracy: 0.5143 - val_loss: -45112.2852 - val_accuracy: 0.4545\n",
            "Epoch 14/100\n",
            "4/4 [==============================] - 0s 37ms/step - loss: -41823.7578 - accuracy: 0.5048 - val_loss: -71075.0703 - val_accuracy: 0.4545\n",
            "Epoch 15/100\n",
            "4/4 [==============================] - 0s 42ms/step - loss: -66891.1250 - accuracy: 0.5048 - val_loss: -109936.4688 - val_accuracy: 0.4545\n",
            "Epoch 16/100\n",
            "4/4 [==============================] - 0s 46ms/step - loss: -101429.6016 - accuracy: 0.4857 - val_loss: -166761.5000 - val_accuracy: 0.4545\n",
            "Epoch 17/100\n",
            "4/4 [==============================] - 0s 39ms/step - loss: -152832.8281 - accuracy: 0.4857 - val_loss: -246847.1562 - val_accuracy: 0.4091\n",
            "Epoch 18/100\n",
            "4/4 [==============================] - 0s 45ms/step - loss: -226243.9062 - accuracy: 0.4762 - val_loss: -358463.9375 - val_accuracy: 0.4091\n",
            "Epoch 19/100\n",
            "4/4 [==============================] - 0s 52ms/step - loss: -331515.4375 - accuracy: 0.4857 - val_loss: -510823.4688 - val_accuracy: 0.4091\n",
            "Epoch 20/100\n",
            "4/4 [==============================] - 0s 48ms/step - loss: -454958.7812 - accuracy: 0.4667 - val_loss: -713568.5625 - val_accuracy: 0.3636\n",
            "Epoch 21/100\n",
            "4/4 [==============================] - 0s 45ms/step - loss: -640678.5000 - accuracy: 0.4571 - val_loss: -973329.0625 - val_accuracy: 0.4091\n",
            "Epoch 22/100\n",
            "4/4 [==============================] - 0s 47ms/step - loss: -858318.1875 - accuracy: 0.4667 - val_loss: -1310459.1250 - val_accuracy: 0.4091\n",
            "Epoch 23/100\n",
            "4/4 [==============================] - 0s 46ms/step - loss: -1174614.7500 - accuracy: 0.4762 - val_loss: -1742564.0000 - val_accuracy: 0.4545\n",
            "Epoch 24/100\n",
            "4/4 [==============================] - 0s 49ms/step - loss: -1546993.6250 - accuracy: 0.4857 - val_loss: -2293553.7500 - val_accuracy: 0.4545\n",
            "Epoch 25/100\n",
            "4/4 [==============================] - 0s 45ms/step - loss: -2045123.6250 - accuracy: 0.4952 - val_loss: -2943459.7500 - val_accuracy: 0.4545\n",
            "Epoch 26/100\n",
            "4/4 [==============================] - 0s 50ms/step - loss: -2622710.2500 - accuracy: 0.4952 - val_loss: -3798781.0000 - val_accuracy: 0.4545\n",
            "Epoch 27/100\n",
            "4/4 [==============================] - 0s 46ms/step - loss: -3382218.7500 - accuracy: 0.4857 - val_loss: -4883507.5000 - val_accuracy: 0.4545\n",
            "Epoch 28/100\n",
            "4/4 [==============================] - 0s 45ms/step - loss: -4319578.0000 - accuracy: 0.4857 - val_loss: -6228771.0000 - val_accuracy: 0.4091\n",
            "Epoch 29/100\n",
            "4/4 [==============================] - 0s 47ms/step - loss: -5422001.0000 - accuracy: 0.4667 - val_loss: -7859909.0000 - val_accuracy: 0.4091\n",
            "Epoch 30/100\n",
            "4/4 [==============================] - 0s 46ms/step - loss: -6892452.0000 - accuracy: 0.4762 - val_loss: -9664161.0000 - val_accuracy: 0.4545\n",
            "Epoch 31/100\n",
            "4/4 [==============================] - 0s 47ms/step - loss: -8386784.5000 - accuracy: 0.4857 - val_loss: -11874467.0000 - val_accuracy: 0.4545\n",
            "Epoch 32/100\n",
            "4/4 [==============================] - 0s 45ms/step - loss: -10339204.0000 - accuracy: 0.4857 - val_loss: -14600833.0000 - val_accuracy: 0.4545\n",
            "Epoch 33/100\n",
            "4/4 [==============================] - 0s 48ms/step - loss: -12932486.0000 - accuracy: 0.4952 - val_loss: -17890474.0000 - val_accuracy: 0.4545\n",
            "Epoch 34/100\n",
            "4/4 [==============================] - 0s 45ms/step - loss: -15864809.0000 - accuracy: 0.4952 - val_loss: -21862364.0000 - val_accuracy: 0.4545\n",
            "Epoch 35/100\n",
            "4/4 [==============================] - 0s 39ms/step - loss: -19072168.0000 - accuracy: 0.4857 - val_loss: -26561844.0000 - val_accuracy: 0.4545\n",
            "Epoch 36/100\n",
            "4/4 [==============================] - 0s 38ms/step - loss: -22909788.0000 - accuracy: 0.4857 - val_loss: -31742394.0000 - val_accuracy: 0.4545\n",
            "Epoch 37/100\n",
            "4/4 [==============================] - 0s 40ms/step - loss: -27314992.0000 - accuracy: 0.4952 - val_loss: -37578844.0000 - val_accuracy: 0.4545\n",
            "Epoch 38/100\n",
            "4/4 [==============================] - 0s 39ms/step - loss: -32567818.0000 - accuracy: 0.4952 - val_loss: -44571684.0000 - val_accuracy: 0.4545\n",
            "Epoch 39/100\n",
            "4/4 [==============================] - 0s 40ms/step - loss: -38482828.0000 - accuracy: 0.5143 - val_loss: -52743028.0000 - val_accuracy: 0.4545\n",
            "Epoch 40/100\n",
            "4/4 [==============================] - 0s 38ms/step - loss: -45437756.0000 - accuracy: 0.4952 - val_loss: -62004284.0000 - val_accuracy: 0.4545\n",
            "Epoch 41/100\n",
            "4/4 [==============================] - 0s 40ms/step - loss: -53435556.0000 - accuracy: 0.4857 - val_loss: -72870528.0000 - val_accuracy: 0.4545\n",
            "Epoch 42/100\n",
            "4/4 [==============================] - 0s 39ms/step - loss: -62719532.0000 - accuracy: 0.4857 - val_loss: -85112088.0000 - val_accuracy: 0.4545\n",
            "Epoch 43/100\n",
            "4/4 [==============================] - 0s 38ms/step - loss: -72873416.0000 - accuracy: 0.4857 - val_loss: -98374888.0000 - val_accuracy: 0.4545\n",
            "Epoch 44/100\n",
            "4/4 [==============================] - 0s 42ms/step - loss: -85132760.0000 - accuracy: 0.4857 - val_loss: -113796816.0000 - val_accuracy: 0.4545\n",
            "Epoch 45/100\n",
            "4/4 [==============================] - 0s 37ms/step - loss: -97642864.0000 - accuracy: 0.4857 - val_loss: -131729304.0000 - val_accuracy: 0.4545\n",
            "Epoch 46/100\n",
            "4/4 [==============================] - 0s 43ms/step - loss: -112932376.0000 - accuracy: 0.4857 - val_loss: -151663696.0000 - val_accuracy: 0.4545\n",
            "Epoch 47/100\n",
            "4/4 [==============================] - 0s 47ms/step - loss: -130520464.0000 - accuracy: 0.4857 - val_loss: -174607296.0000 - val_accuracy: 0.4545\n",
            "Epoch 48/100\n",
            "4/4 [==============================] - 0s 47ms/step - loss: -149572240.0000 - accuracy: 0.4857 - val_loss: -200838704.0000 - val_accuracy: 0.4545\n",
            "Epoch 49/100\n",
            "4/4 [==============================] - 0s 48ms/step - loss: -170420672.0000 - accuracy: 0.4857 - val_loss: -230423856.0000 - val_accuracy: 0.4545\n",
            "Epoch 50/100\n",
            "4/4 [==============================] - 0s 52ms/step - loss: -195859216.0000 - accuracy: 0.4762 - val_loss: -262996432.0000 - val_accuracy: 0.4091\n",
            "Epoch 51/100\n",
            "4/4 [==============================] - 0s 49ms/step - loss: -225642976.0000 - accuracy: 0.4762 - val_loss: -298853984.0000 - val_accuracy: 0.4091\n",
            "Epoch 52/100\n",
            "4/4 [==============================] - 0s 47ms/step - loss: -254130368.0000 - accuracy: 0.4667 - val_loss: -339358112.0000 - val_accuracy: 0.4091\n",
            "Epoch 53/100\n",
            "4/4 [==============================] - 0s 49ms/step - loss: -289705440.0000 - accuracy: 0.4762 - val_loss: -383050176.0000 - val_accuracy: 0.4091\n",
            "Epoch 54/100\n",
            "4/4 [==============================] - 0s 48ms/step - loss: -325804864.0000 - accuracy: 0.4667 - val_loss: -432342944.0000 - val_accuracy: 0.4091\n",
            "Epoch 55/100\n",
            "4/4 [==============================] - 0s 50ms/step - loss: -366702432.0000 - accuracy: 0.4667 - val_loss: -486696320.0000 - val_accuracy: 0.4091\n",
            "Epoch 56/100\n",
            "4/4 [==============================] - 0s 50ms/step - loss: -413768832.0000 - accuracy: 0.4667 - val_loss: -545310080.0000 - val_accuracy: 0.4091\n",
            "Epoch 57/100\n",
            "4/4 [==============================] - 0s 47ms/step - loss: -462684288.0000 - accuracy: 0.4762 - val_loss: -610023104.0000 - val_accuracy: 0.4091\n",
            "Epoch 58/100\n",
            "4/4 [==============================] - 0s 43ms/step - loss: -518323680.0000 - accuracy: 0.4762 - val_loss: -681783232.0000 - val_accuracy: 0.4091\n",
            "Epoch 59/100\n",
            "4/4 [==============================] - 0s 41ms/step - loss: -572351616.0000 - accuracy: 0.4762 - val_loss: -760592448.0000 - val_accuracy: 0.4091\n",
            "Epoch 60/100\n",
            "4/4 [==============================] - 0s 39ms/step - loss: -642900736.0000 - accuracy: 0.4762 - val_loss: -841379392.0000 - val_accuracy: 0.4091\n",
            "Epoch 61/100\n",
            "4/4 [==============================] - 0s 45ms/step - loss: -709566400.0000 - accuracy: 0.4762 - val_loss: -929692032.0000 - val_accuracy: 0.4545\n",
            "Epoch 62/100\n",
            "4/4 [==============================] - 0s 39ms/step - loss: -786162048.0000 - accuracy: 0.4762 - val_loss: -1026456384.0000 - val_accuracy: 0.4545\n",
            "Epoch 63/100\n",
            "4/4 [==============================] - 0s 39ms/step - loss: -870618112.0000 - accuracy: 0.4762 - val_loss: -1133197696.0000 - val_accuracy: 0.4545\n",
            "Epoch 64/100\n",
            "4/4 [==============================] - 0s 42ms/step - loss: -962283584.0000 - accuracy: 0.4762 - val_loss: -1251045376.0000 - val_accuracy: 0.4091\n",
            "Epoch 65/100\n",
            "4/4 [==============================] - 0s 39ms/step - loss: -1058112576.0000 - accuracy: 0.4762 - val_loss: -1380790144.0000 - val_accuracy: 0.4091\n",
            "Epoch 66/100\n",
            "4/4 [==============================] - 0s 38ms/step - loss: -1169043456.0000 - accuracy: 0.4762 - val_loss: -1519198208.0000 - val_accuracy: 0.4091\n",
            "Epoch 67/100\n",
            "4/4 [==============================] - 0s 44ms/step - loss: -1277123072.0000 - accuracy: 0.4667 - val_loss: -1665415168.0000 - val_accuracy: 0.4091\n",
            "Epoch 68/100\n",
            "4/4 [==============================] - 0s 39ms/step - loss: -1395176192.0000 - accuracy: 0.4667 - val_loss: -1816128768.0000 - val_accuracy: 0.4091\n",
            "Epoch 69/100\n",
            "4/4 [==============================] - 0s 37ms/step - loss: -1519103616.0000 - accuracy: 0.4762 - val_loss: -1970259840.0000 - val_accuracy: 0.4091\n",
            "Epoch 70/100\n",
            "4/4 [==============================] - 0s 43ms/step - loss: -1657079936.0000 - accuracy: 0.4857 - val_loss: -2135381120.0000 - val_accuracy: 0.4545\n",
            "Epoch 71/100\n",
            "4/4 [==============================] - 0s 45ms/step - loss: -1799559680.0000 - accuracy: 0.4857 - val_loss: -2322323200.0000 - val_accuracy: 0.4545\n",
            "Epoch 72/100\n",
            "4/4 [==============================] - 0s 46ms/step - loss: -1958678272.0000 - accuracy: 0.4762 - val_loss: -2529641728.0000 - val_accuracy: 0.4091\n",
            "Epoch 73/100\n",
            "4/4 [==============================] - 0s 54ms/step - loss: -2127324672.0000 - accuracy: 0.4762 - val_loss: -2755383040.0000 - val_accuracy: 0.4091\n",
            "Epoch 74/100\n",
            "4/4 [==============================] - 0s 45ms/step - loss: -2319200512.0000 - accuracy: 0.4762 - val_loss: -2993610752.0000 - val_accuracy: 0.4091\n",
            "Epoch 75/100\n",
            "4/4 [==============================] - 0s 47ms/step - loss: -2512807168.0000 - accuracy: 0.4762 - val_loss: -3250956544.0000 - val_accuracy: 0.4091\n",
            "Epoch 76/100\n",
            "4/4 [==============================] - 0s 39ms/step - loss: -2734244352.0000 - accuracy: 0.4762 - val_loss: -3519136000.0000 - val_accuracy: 0.4091\n",
            "Epoch 77/100\n",
            "4/4 [==============================] - 0s 40ms/step - loss: -2943171840.0000 - accuracy: 0.4762 - val_loss: -3800905472.0000 - val_accuracy: 0.4091\n",
            "Epoch 78/100\n",
            "4/4 [==============================] - 0s 37ms/step - loss: -3186315776.0000 - accuracy: 0.4762 - val_loss: -4083061504.0000 - val_accuracy: 0.4545\n",
            "Epoch 79/100\n",
            "4/4 [==============================] - 0s 41ms/step - loss: -3434388480.0000 - accuracy: 0.4762 - val_loss: -4393689088.0000 - val_accuracy: 0.4545\n",
            "Epoch 80/100\n",
            "4/4 [==============================] - 0s 39ms/step - loss: -3684827648.0000 - accuracy: 0.4857 - val_loss: -4738642432.0000 - val_accuracy: 0.4545\n",
            "Epoch 81/100\n",
            "4/4 [==============================] - 0s 38ms/step - loss: -3977302528.0000 - accuracy: 0.4857 - val_loss: -5090385920.0000 - val_accuracy: 0.4545\n",
            "Epoch 82/100\n",
            "4/4 [==============================] - 0s 39ms/step - loss: -4255111936.0000 - accuracy: 0.4857 - val_loss: -5480036864.0000 - val_accuracy: 0.4091\n",
            "Epoch 83/100\n",
            "4/4 [==============================] - 0s 42ms/step - loss: -4595614720.0000 - accuracy: 0.4762 - val_loss: -5875658240.0000 - val_accuracy: 0.4545\n",
            "Epoch 84/100\n",
            "4/4 [==============================] - 0s 38ms/step - loss: -4922874880.0000 - accuracy: 0.4762 - val_loss: -6298903040.0000 - val_accuracy: 0.4545\n",
            "Epoch 85/100\n",
            "4/4 [==============================] - 0s 38ms/step - loss: -5272672256.0000 - accuracy: 0.4762 - val_loss: -6751523328.0000 - val_accuracy: 0.4091\n",
            "Epoch 86/100\n",
            "4/4 [==============================] - 0s 38ms/step - loss: -5668640768.0000 - accuracy: 0.4857 - val_loss: -7206164480.0000 - val_accuracy: 0.4545\n",
            "Epoch 87/100\n",
            "4/4 [==============================] - 0s 39ms/step - loss: -6030032384.0000 - accuracy: 0.4762 - val_loss: -7716438016.0000 - val_accuracy: 0.4091\n",
            "Epoch 88/100\n",
            "4/4 [==============================] - 0s 39ms/step - loss: -6462812672.0000 - accuracy: 0.4762 - val_loss: -8255666688.0000 - val_accuracy: 0.4091\n",
            "Epoch 89/100\n",
            "4/4 [==============================] - 0s 47ms/step - loss: -6920379392.0000 - accuracy: 0.4762 - val_loss: -8819430400.0000 - val_accuracy: 0.4545\n",
            "Epoch 90/100\n",
            "4/4 [==============================] - 0s 45ms/step - loss: -7390985216.0000 - accuracy: 0.4762 - val_loss: -9410318336.0000 - val_accuracy: 0.4545\n",
            "Epoch 91/100\n",
            "4/4 [==============================] - 0s 46ms/step - loss: -7860383232.0000 - accuracy: 0.4857 - val_loss: -10016659456.0000 - val_accuracy: 0.4545\n",
            "Epoch 92/100\n",
            "4/4 [==============================] - 0s 48ms/step - loss: -8385844224.0000 - accuracy: 0.4857 - val_loss: -10644680704.0000 - val_accuracy: 0.4545\n",
            "Epoch 93/100\n",
            "4/4 [==============================] - 0s 48ms/step - loss: -8910219264.0000 - accuracy: 0.4857 - val_loss: -11313909760.0000 - val_accuracy: 0.4545\n",
            "Epoch 94/100\n",
            "4/4 [==============================] - 0s 47ms/step - loss: -9438866432.0000 - accuracy: 0.4762 - val_loss: -12042353664.0000 - val_accuracy: 0.4091\n",
            "Epoch 95/100\n",
            "4/4 [==============================] - 0s 48ms/step - loss: -10014048256.0000 - accuracy: 0.4762 - val_loss: -12763928576.0000 - val_accuracy: 0.4545\n",
            "Epoch 96/100\n",
            "4/4 [==============================] - 0s 46ms/step - loss: -10663899136.0000 - accuracy: 0.4857 - val_loss: -13494349824.0000 - val_accuracy: 0.4545\n",
            "Epoch 97/100\n",
            "4/4 [==============================] - 0s 52ms/step - loss: -11263399936.0000 - accuracy: 0.4857 - val_loss: -14302474240.0000 - val_accuracy: 0.4545\n",
            "Epoch 98/100\n",
            "4/4 [==============================] - 0s 46ms/step - loss: -11935124480.0000 - accuracy: 0.4857 - val_loss: -15153929216.0000 - val_accuracy: 0.4545\n",
            "Epoch 99/100\n",
            "4/4 [==============================] - 0s 42ms/step - loss: -12642844672.0000 - accuracy: 0.4857 - val_loss: -16038190080.0000 - val_accuracy: 0.4545\n",
            "Epoch 100/100\n",
            "4/4 [==============================] - 0s 39ms/step - loss: -13436203008.0000 - accuracy: 0.4857 - val_loss: -16960650240.0000 - val_accuracy: 0.4545\n"
          ]
        }
      ]
    },
    {
      "cell_type": "code",
      "source": [
        "plt.plot(hist_2.history['loss'])\n",
        "plt.plot(hist_2.history['val_loss'])\n",
        "plt.title('Model loss')\n",
        "plt.ylabel('Loss')\n",
        "plt.xlabel('Epoch')\n",
        "plt.legend(['Train', 'Val'], loc='upper right')\n",
        "plt.show()"
      ],
      "metadata": {
        "colab": {
          "base_uri": "https://localhost:8080/",
          "height": 295
        },
        "id": "wlqlVRsYtPHv",
        "outputId": "d2aa22f8-ec9b-4141-a569-6f61760aec32"
      },
      "execution_count": 27,
      "outputs": [
        {
          "output_type": "display_data",
          "data": {
            "text/plain": [
              "<Figure size 432x288 with 1 Axes>"
            ],
            "image/png": "[encoded data removed]"
          },
          "metadata": {
            "needs_background": "light"
          }
        }
      ]
    },
    {
      "cell_type": "code",
      "source": [
        "plt.plot(hist_2.history['accuracy'])\n",
        "plt.plot(hist_2.history['val_accuracy'])\n",
        "plt.title('Model accuracy')\n",
        "plt.ylabel('Accuracy')\n",
        "plt.xlabel('Epoch')\n",
        "plt.legend(['Train', 'Val'], loc='lower right')\n",
        "plt.show()"
      ],
      "metadata": {
        "colab": {
          "base_uri": "https://localhost:8080/",
          "height": 295
        },
        "id": "aBQG2EPNtPU1",
        "outputId": "241a33ee-f0ef-429d-a074-0898386735a6"
      },
      "execution_count": 28,
      "outputs": [
        {
          "output_type": "display_data",
          "data": {
            "text/plain": [
              "<Figure size 432x288 with 1 Axes>"
            ],
            "image/png": "[encoded data removed]"
          },
          "metadata": {
            "needs_background": "light"
          }
        }
      ]
    },
    {
      "cell_type": "code",
      "source": [
        "from keras.layers import Dropout\n",
        "from keras import regularizers"
      ],
      "metadata": {
        "id": "-5n9MM9itPh4"
      },
      "execution_count": 29,
      "outputs": []
    },
    {
      "cell_type": "code",
      "source": [
        "model_3 = Sequential([\n",
        "    Dense(1000, activation='relu', kernel_regularizer=regularizers.l2(0.01), input_shape=(5,)),\n",
        "    Dropout(0.3),\n",
        "    Dense(1000, activation='relu', kernel_regularizer=regularizers.l2(0.01)),\n",
        "    Dropout(0.3),\n",
        "    Dense(1000, activation='relu', kernel_regularizer=regularizers.l2(0.01)),\n",
        "    Dropout(0.3),\n",
        "    Dense(1000, activation='relu', kernel_regularizer=regularizers.l2(0.01)),\n",
        "    Dropout(0.3),\n",
        "    Dense(1, activation='sigmoid', kernel_regularizer=regularizers.l2(0.01)),\n",
        "])\n",
        "\n",
        "model_3.compile(optimizer='adam',\n",
        "              loss='binary_crossentropy',\n",
        "              metrics=['accuracy'])\n",
        "\n",
        "hist_3 = model_3.fit(X_train, Y_train,\n",
        "          batch_size=32, epochs=100,\n",
        "          validation_data=(X_val, Y_val))"
      ],
      "metadata": {
        "colab": {
          "base_uri": "https://localhost:8080/"
        },
        "id": "aGj4pHobtPsL",
        "outputId": "7a1a1ddd-010b-4a6b-a098-69b736629767"
      },
      "execution_count": 30,
      "outputs": [
        {
          "output_type": "stream",
          "name": "stdout",
          "text": [
            "Epoch 1/100\n",
            "4/4 [==============================] - 1s 128ms/step - loss: 28.8911 - accuracy: 0.3238 - val_loss: 23.8234 - val_accuracy: 0.2727\n",
            "Epoch 2/100\n",
            "4/4 [==============================] - 0s 59ms/step - loss: 21.7832 - accuracy: 0.3905 - val_loss: 13.7217 - val_accuracy: 0.2727\n",
            "Epoch 3/100\n",
            "4/4 [==============================] - 0s 60ms/step - loss: 10.4276 - accuracy: 0.3905 - val_loss: -13.0319 - val_accuracy: 0.2727\n",
            "Epoch 4/100\n",
            "4/4 [==============================] - 0s 57ms/step - loss: -22.3382 - accuracy: 0.3905 - val_loss: -96.7937 - val_accuracy: 0.2727\n",
            "Epoch 5/100\n",
            "4/4 [==============================] - 0s 63ms/step - loss: -124.5717 - accuracy: 0.3905 - val_loss: -328.7238 - val_accuracy: 0.2727\n",
            "Epoch 6/100\n",
            "4/4 [==============================] - 0s 56ms/step - loss: -372.1486 - accuracy: 0.3905 - val_loss: -907.5139 - val_accuracy: 0.2727\n",
            "Epoch 7/100\n",
            "4/4 [==============================] - 0s 59ms/step - loss: -1011.3910 - accuracy: 0.3905 - val_loss: -2224.8203 - val_accuracy: 0.2727\n",
            "Epoch 8/100\n",
            "4/4 [==============================] - 0s 57ms/step - loss: -2206.9033 - accuracy: 0.4095 - val_loss: -4917.1147 - val_accuracy: 0.3182\n",
            "Epoch 9/100\n",
            "4/4 [==============================] - 0s 53ms/step - loss: -5067.8325 - accuracy: 0.4476 - val_loss: -10150.5137 - val_accuracy: 0.3636\n",
            "Epoch 10/100\n",
            "4/4 [==============================] - 0s 60ms/step - loss: -10277.7646 - accuracy: 0.4667 - val_loss: -20004.9434 - val_accuracy: 0.3636\n",
            "Epoch 11/100\n",
            "4/4 [==============================] - 0s 54ms/step - loss: -20420.3809 - accuracy: 0.4571 - val_loss: -37551.6484 - val_accuracy: 0.3182\n",
            "Epoch 12/100\n",
            "4/4 [==============================] - 0s 54ms/step - loss: -35580.1797 - accuracy: 0.4476 - val_loss: -66945.7891 - val_accuracy: 0.3182\n",
            "Epoch 13/100\n",
            "4/4 [==============================] - 0s 60ms/step - loss: -64725.6484 - accuracy: 0.4381 - val_loss: -111871.6484 - val_accuracy: 0.3636\n",
            "Epoch 14/100\n",
            "4/4 [==============================] - 0s 59ms/step - loss: -107506.9219 - accuracy: 0.4571 - val_loss: -181399.1406 - val_accuracy: 0.4091\n",
            "Epoch 15/100\n",
            "4/4 [==============================] - 0s 53ms/step - loss: -174802.8125 - accuracy: 0.4571 - val_loss: -289489.5000 - val_accuracy: 0.4091\n",
            "Epoch 16/100\n",
            "4/4 [==============================] - 0s 58ms/step - loss: -273767.0000 - accuracy: 0.4571 - val_loss: -452167.1250 - val_accuracy: 0.4091\n",
            "Epoch 17/100\n",
            "4/4 [==============================] - 0s 55ms/step - loss: -422777.5938 - accuracy: 0.4762 - val_loss: -688986.9375 - val_accuracy: 0.4091\n",
            "Epoch 18/100\n",
            "4/4 [==============================] - 0s 54ms/step - loss: -639831.3125 - accuracy: 0.4667 - val_loss: -1024908.5625 - val_accuracy: 0.3636\n",
            "Epoch 19/100\n",
            "4/4 [==============================] - 0s 58ms/step - loss: -943927.5625 - accuracy: 0.4571 - val_loss: -1480643.6250 - val_accuracy: 0.4091\n",
            "Epoch 20/100\n",
            "4/4 [==============================] - 0s 55ms/step - loss: -1374513.1250 - accuracy: 0.4476 - val_loss: -2110252.5000 - val_accuracy: 0.4545\n",
            "Epoch 21/100\n",
            "4/4 [==============================] - 0s 56ms/step - loss: -1941066.0000 - accuracy: 0.4762 - val_loss: -2974293.5000 - val_accuracy: 0.4545\n",
            "Epoch 22/100\n",
            "4/4 [==============================] - 0s 58ms/step - loss: -2730065.0000 - accuracy: 0.4952 - val_loss: -4137445.7500 - val_accuracy: 0.4545\n",
            "Epoch 23/100\n",
            "4/4 [==============================] - 0s 58ms/step - loss: -3729732.5000 - accuracy: 0.4857 - val_loss: -5660313.0000 - val_accuracy: 0.4545\n",
            "Epoch 24/100\n",
            "4/4 [==============================] - 0s 56ms/step - loss: -4998189.5000 - accuracy: 0.5048 - val_loss: -7607640.5000 - val_accuracy: 0.4545\n",
            "Epoch 25/100\n",
            "4/4 [==============================] - 0s 52ms/step - loss: -6872593.0000 - accuracy: 0.4762 - val_loss: -10176827.0000 - val_accuracy: 0.4545\n",
            "Epoch 26/100\n",
            "4/4 [==============================] - 0s 116ms/step - loss: -9002142.0000 - accuracy: 0.4952 - val_loss: -13406545.0000 - val_accuracy: 0.4545\n",
            "Epoch 27/100\n",
            "4/4 [==============================] - 0s 56ms/step - loss: -11883681.0000 - accuracy: 0.5048 - val_loss: -17247260.0000 - val_accuracy: 0.4545\n",
            "Epoch 28/100\n",
            "4/4 [==============================] - 0s 57ms/step - loss: -15679871.0000 - accuracy: 0.5048 - val_loss: -22130706.0000 - val_accuracy: 0.4545\n",
            "Epoch 29/100\n",
            "4/4 [==============================] - 0s 122ms/step - loss: -19437482.0000 - accuracy: 0.4952 - val_loss: -28316744.0000 - val_accuracy: 0.4091\n",
            "Epoch 30/100\n",
            "4/4 [==============================] - 0s 56ms/step - loss: -24841688.0000 - accuracy: 0.4667 - val_loss: -35918840.0000 - val_accuracy: 0.4091\n",
            "Epoch 31/100\n",
            "4/4 [==============================] - 0s 58ms/step - loss: -31730286.0000 - accuracy: 0.4762 - val_loss: -45242300.0000 - val_accuracy: 0.4091\n",
            "Epoch 32/100\n",
            "4/4 [==============================] - 0s 119ms/step - loss: -39207512.0000 - accuracy: 0.4667 - val_loss: -55963536.0000 - val_accuracy: 0.4545\n",
            "Epoch 33/100\n",
            "4/4 [==============================] - 0s 55ms/step - loss: -48470976.0000 - accuracy: 0.4667 - val_loss: -68903584.0000 - val_accuracy: 0.4545\n",
            "Epoch 34/100\n",
            "4/4 [==============================] - 0s 61ms/step - loss: -61644536.0000 - accuracy: 0.4952 - val_loss: -84372880.0000 - val_accuracy: 0.4545\n",
            "Epoch 35/100\n",
            "4/4 [==============================] - 0s 61ms/step - loss: -74346888.0000 - accuracy: 0.4952 - val_loss: -103635168.0000 - val_accuracy: 0.4545\n",
            "Epoch 36/100\n",
            "4/4 [==============================] - 0s 57ms/step - loss: -90166496.0000 - accuracy: 0.5048 - val_loss: -126345752.0000 - val_accuracy: 0.4545\n",
            "Epoch 37/100\n",
            "4/4 [==============================] - 0s 54ms/step - loss: -111379152.0000 - accuracy: 0.4667 - val_loss: -151845904.0000 - val_accuracy: 0.4545\n",
            "Epoch 38/100\n",
            "4/4 [==============================] - 0s 56ms/step - loss: -131765504.0000 - accuracy: 0.4952 - val_loss: -181775216.0000 - val_accuracy: 0.4545\n",
            "Epoch 39/100\n",
            "4/4 [==============================] - 0s 52ms/step - loss: -157098096.0000 - accuracy: 0.4952 - val_loss: -216967952.0000 - val_accuracy: 0.4091\n",
            "Epoch 40/100\n",
            "4/4 [==============================] - 0s 60ms/step - loss: -190445232.0000 - accuracy: 0.4667 - val_loss: -257634608.0000 - val_accuracy: 0.4091\n",
            "Epoch 41/100\n",
            "4/4 [==============================] - 0s 54ms/step - loss: -222384560.0000 - accuracy: 0.4857 - val_loss: -303866784.0000 - val_accuracy: 0.4091\n",
            "Epoch 42/100\n",
            "4/4 [==============================] - 0s 57ms/step - loss: -262959200.0000 - accuracy: 0.4762 - val_loss: -357837344.0000 - val_accuracy: 0.3636\n",
            "Epoch 43/100\n",
            "4/4 [==============================] - 0s 58ms/step - loss: -308951552.0000 - accuracy: 0.4571 - val_loss: -417199648.0000 - val_accuracy: 0.3636\n",
            "Epoch 44/100\n",
            "4/4 [==============================] - 0s 53ms/step - loss: -356359328.0000 - accuracy: 0.4762 - val_loss: -485941664.0000 - val_accuracy: 0.3636\n",
            "Epoch 45/100\n",
            "4/4 [==============================] - 0s 56ms/step - loss: -416006784.0000 - accuracy: 0.4762 - val_loss: -561026560.0000 - val_accuracy: 0.3636\n",
            "Epoch 46/100\n",
            "4/4 [==============================] - 0s 56ms/step - loss: -478712768.0000 - accuracy: 0.4667 - val_loss: -642291392.0000 - val_accuracy: 0.4091\n",
            "Epoch 47/100\n",
            "4/4 [==============================] - 0s 57ms/step - loss: -542831872.0000 - accuracy: 0.4762 - val_loss: -739068672.0000 - val_accuracy: 0.4091\n",
            "Epoch 48/100\n",
            "4/4 [==============================] - 0s 54ms/step - loss: -634506816.0000 - accuracy: 0.4762 - val_loss: -844704960.0000 - val_accuracy: 0.4091\n",
            "Epoch 49/100\n",
            "4/4 [==============================] - 0s 58ms/step - loss: -721048704.0000 - accuracy: 0.4667 - val_loss: -964589312.0000 - val_accuracy: 0.4091\n",
            "Epoch 50/100\n",
            "4/4 [==============================] - 0s 55ms/step - loss: -822833984.0000 - accuracy: 0.4857 - val_loss: -1099401344.0000 - val_accuracy: 0.4091\n",
            "Epoch 51/100\n",
            "4/4 [==============================] - 0s 55ms/step - loss: -939128256.0000 - accuracy: 0.4571 - val_loss: -1252025728.0000 - val_accuracy: 0.4091\n",
            "Epoch 52/100\n",
            "4/4 [==============================] - 0s 56ms/step - loss: -1061573632.0000 - accuracy: 0.4571 - val_loss: -1420921856.0000 - val_accuracy: 0.4091\n",
            "Epoch 53/100\n",
            "4/4 [==============================] - 0s 59ms/step - loss: -1223976832.0000 - accuracy: 0.4857 - val_loss: -1609526912.0000 - val_accuracy: 0.4091\n",
            "Epoch 54/100\n",
            "4/4 [==============================] - 0s 56ms/step - loss: -1377898880.0000 - accuracy: 0.4857 - val_loss: -1821951872.0000 - val_accuracy: 0.4091\n",
            "Epoch 55/100\n",
            "4/4 [==============================] - 0s 59ms/step - loss: -1508216960.0000 - accuracy: 0.4667 - val_loss: -2051520000.0000 - val_accuracy: 0.4091\n",
            "Epoch 56/100\n",
            "4/4 [==============================] - 0s 56ms/step - loss: -1740726656.0000 - accuracy: 0.4571 - val_loss: -2294706176.0000 - val_accuracy: 0.4091\n",
            "Epoch 57/100\n",
            "4/4 [==============================] - 0s 64ms/step - loss: -1928006144.0000 - accuracy: 0.4667 - val_loss: -2566222592.0000 - val_accuracy: 0.4091\n",
            "Epoch 58/100\n",
            "4/4 [==============================] - 0s 58ms/step - loss: -2154373888.0000 - accuracy: 0.4667 - val_loss: -2878938624.0000 - val_accuracy: 0.4091\n",
            "Epoch 59/100\n",
            "4/4 [==============================] - 0s 60ms/step - loss: -2448652032.0000 - accuracy: 0.4667 - val_loss: -3217145088.0000 - val_accuracy: 0.4091\n",
            "Epoch 60/100\n",
            "4/4 [==============================] - 0s 55ms/step - loss: -2664380672.0000 - accuracy: 0.4762 - val_loss: -3591097600.0000 - val_accuracy: 0.4091\n",
            "Epoch 61/100\n",
            "4/4 [==============================] - 0s 61ms/step - loss: -3043482112.0000 - accuracy: 0.4667 - val_loss: -3995653888.0000 - val_accuracy: 0.4091\n",
            "Epoch 62/100\n",
            "4/4 [==============================] - 0s 56ms/step - loss: -3412940544.0000 - accuracy: 0.4667 - val_loss: -4420466688.0000 - val_accuracy: 0.4091\n",
            "Epoch 63/100\n",
            "4/4 [==============================] - 0s 55ms/step - loss: -3733387776.0000 - accuracy: 0.4857 - val_loss: -4851013632.0000 - val_accuracy: 0.4091\n",
            "Epoch 64/100\n",
            "4/4 [==============================] - 0s 54ms/step - loss: -4064297728.0000 - accuracy: 0.4762 - val_loss: -5355401216.0000 - val_accuracy: 0.4091\n",
            "Epoch 65/100\n",
            "4/4 [==============================] - 0s 57ms/step - loss: -4539256320.0000 - accuracy: 0.4667 - val_loss: -5883961344.0000 - val_accuracy: 0.4545\n",
            "Epoch 66/100\n",
            "4/4 [==============================] - 0s 55ms/step - loss: -4964039680.0000 - accuracy: 0.4857 - val_loss: -6468289024.0000 - val_accuracy: 0.4545\n",
            "Epoch 67/100\n",
            "4/4 [==============================] - 0s 62ms/step - loss: -5378306048.0000 - accuracy: 0.4667 - val_loss: -7111653888.0000 - val_accuracy: 0.4545\n",
            "Epoch 68/100\n",
            "4/4 [==============================] - 0s 59ms/step - loss: -5866675200.0000 - accuracy: 0.4762 - val_loss: -7803154944.0000 - val_accuracy: 0.4545\n",
            "Epoch 69/100\n",
            "4/4 [==============================] - 0s 53ms/step - loss: -6513401856.0000 - accuracy: 0.4857 - val_loss: -8524380672.0000 - val_accuracy: 0.4545\n",
            "Epoch 70/100\n",
            "4/4 [==============================] - 0s 59ms/step - loss: -7236573696.0000 - accuracy: 0.4857 - val_loss: -9293627392.0000 - val_accuracy: 0.4545\n",
            "Epoch 71/100\n",
            "4/4 [==============================] - 0s 55ms/step - loss: -7768521216.0000 - accuracy: 0.4762 - val_loss: -10143119360.0000 - val_accuracy: 0.4545\n",
            "Epoch 72/100\n",
            "4/4 [==============================] - 0s 57ms/step - loss: -8575534080.0000 - accuracy: 0.4857 - val_loss: -11070908416.0000 - val_accuracy: 0.4545\n",
            "Epoch 73/100\n",
            "4/4 [==============================] - 0s 55ms/step - loss: -9222512640.0000 - accuracy: 0.4857 - val_loss: -12096219136.0000 - val_accuracy: 0.4091\n",
            "Epoch 74/100\n",
            "4/4 [==============================] - 0s 58ms/step - loss: -10194889728.0000 - accuracy: 0.4762 - val_loss: -13194264576.0000 - val_accuracy: 0.4091\n",
            "Epoch 75/100\n",
            "4/4 [==============================] - 0s 54ms/step - loss: -11055836160.0000 - accuracy: 0.4762 - val_loss: -14363787264.0000 - val_accuracy: 0.4091\n",
            "Epoch 76/100\n",
            "4/4 [==============================] - 0s 59ms/step - loss: -12147430400.0000 - accuracy: 0.4762 - val_loss: -15619928064.0000 - val_accuracy: 0.4091\n",
            "Epoch 77/100\n",
            "4/4 [==============================] - 0s 58ms/step - loss: -12984065024.0000 - accuracy: 0.4857 - val_loss: -16966864896.0000 - val_accuracy: 0.4091\n",
            "Epoch 78/100\n",
            "4/4 [==============================] - 0s 54ms/step - loss: -14202321920.0000 - accuracy: 0.4762 - val_loss: -18362013696.0000 - val_accuracy: 0.4091\n",
            "Epoch 79/100\n",
            "4/4 [==============================] - 0s 61ms/step - loss: -15266628608.0000 - accuracy: 0.4857 - val_loss: -19882891264.0000 - val_accuracy: 0.4091\n",
            "Epoch 80/100\n",
            "4/4 [==============================] - 0s 56ms/step - loss: -16795726848.0000 - accuracy: 0.4667 - val_loss: -21521545216.0000 - val_accuracy: 0.4091\n",
            "Epoch 81/100\n",
            "4/4 [==============================] - 0s 68ms/step - loss: -18277087232.0000 - accuracy: 0.4857 - val_loss: -23242092544.0000 - val_accuracy: 0.4091\n",
            "Epoch 82/100\n",
            "4/4 [==============================] - 0s 64ms/step - loss: -19459581952.0000 - accuracy: 0.4762 - val_loss: -25131186176.0000 - val_accuracy: 0.4091\n",
            "Epoch 83/100\n",
            "4/4 [==============================] - 0s 61ms/step - loss: -21101402112.0000 - accuracy: 0.4762 - val_loss: -27073824768.0000 - val_accuracy: 0.4091\n",
            "Epoch 84/100\n",
            "4/4 [==============================] - 0s 58ms/step - loss: -22673743872.0000 - accuracy: 0.4762 - val_loss: -29175296000.0000 - val_accuracy: 0.4091\n",
            "Epoch 85/100\n",
            "4/4 [==============================] - 0s 59ms/step - loss: -24030400512.0000 - accuracy: 0.4762 - val_loss: -31236737024.0000 - val_accuracy: 0.4091\n",
            "Epoch 86/100\n",
            "4/4 [==============================] - 0s 59ms/step - loss: -25938479104.0000 - accuracy: 0.4762 - val_loss: -33343862784.0000 - val_accuracy: 0.4091\n",
            "Epoch 87/100\n",
            "4/4 [==============================] - 0s 63ms/step - loss: -28238458880.0000 - accuracy: 0.4762 - val_loss: -35558383616.0000 - val_accuracy: 0.4545\n",
            "Epoch 88/100\n",
            "4/4 [==============================] - 0s 55ms/step - loss: -29647273984.0000 - accuracy: 0.4762 - val_loss: -38002966528.0000 - val_accuracy: 0.4545\n",
            "Epoch 89/100\n",
            "4/4 [==============================] - 0s 69ms/step - loss: -31690123264.0000 - accuracy: 0.4762 - val_loss: -40716906496.0000 - val_accuracy: 0.4545\n",
            "Epoch 90/100\n",
            "4/4 [==============================] - 0s 58ms/step - loss: -33903472640.0000 - accuracy: 0.5048 - val_loss: -43531485184.0000 - val_accuracy: 0.4545\n",
            "Epoch 91/100\n",
            "4/4 [==============================] - 0s 62ms/step - loss: -36033441792.0000 - accuracy: 0.4762 - val_loss: -46514864128.0000 - val_accuracy: 0.4545\n",
            "Epoch 92/100\n",
            "4/4 [==============================] - 0s 62ms/step - loss: -39232262144.0000 - accuracy: 0.4857 - val_loss: -49657782272.0000 - val_accuracy: 0.4545\n",
            "Epoch 93/100\n",
            "4/4 [==============================] - 0s 58ms/step - loss: -41589084160.0000 - accuracy: 0.4762 - val_loss: -52886736896.0000 - val_accuracy: 0.4545\n",
            "Epoch 94/100\n",
            "4/4 [==============================] - 0s 60ms/step - loss: -44528148480.0000 - accuracy: 0.4762 - val_loss: -56231841792.0000 - val_accuracy: 0.4545\n",
            "Epoch 95/100\n",
            "4/4 [==============================] - 0s 58ms/step - loss: -46918115328.0000 - accuracy: 0.4667 - val_loss: -59905753088.0000 - val_accuracy: 0.4545\n",
            "Epoch 96/100\n",
            "4/4 [==============================] - 0s 59ms/step - loss: -49513820160.0000 - accuracy: 0.4762 - val_loss: -63664726016.0000 - val_accuracy: 0.4545\n",
            "Epoch 97/100\n",
            "4/4 [==============================] - 0s 56ms/step - loss: -53975879680.0000 - accuracy: 0.4857 - val_loss: -67776745472.0000 - val_accuracy: 0.4545\n",
            "Epoch 98/100\n",
            "4/4 [==============================] - 0s 54ms/step - loss: -56231772160.0000 - accuracy: 0.4762 - val_loss: -72005885952.0000 - val_accuracy: 0.4091\n",
            "Epoch 99/100\n",
            "4/4 [==============================] - 0s 58ms/step - loss: -60227887104.0000 - accuracy: 0.4762 - val_loss: -76288458752.0000 - val_accuracy: 0.4545\n",
            "Epoch 100/100\n",
            "4/4 [==============================] - 0s 60ms/step - loss: -65087680512.0000 - accuracy: 0.4762 - val_loss: -80745316352.0000 - val_accuracy: 0.4545\n"
          ]
        }
      ]
    },
    {
      "cell_type": "code",
      "source": [
        "plt.plot(hist_3.history['loss'])\n",
        "plt.plot(hist_3.history['val_loss'])\n",
        "plt.title('Model loss')\n",
        "plt.ylabel('Loss')\n",
        "plt.xlabel('Epoch')\n",
        "plt.legend(['Train', 'Val'], loc='upper right')\n",
        "plt.ylim(top=1.2, bottom=0)\n",
        "plt.show()"
      ],
      "metadata": {
        "colab": {
          "base_uri": "https://localhost:8080/",
          "height": 295
        },
        "id": "3Jav6OD5uWp3",
        "outputId": "3d05ce19-ae49-4a97-af07-5a8cbbbde664"
      },
      "execution_count": 31,
      "outputs": [
        {
          "output_type": "display_data",
          "data": {
            "text/plain": [
              "<Figure size 432x288 with 1 Axes>"
            ],
            "image/png": "[encoded data removed]"
          },
          "metadata": {
            "needs_background": "light"
          }
        }
      ]
    },
    {
      "cell_type": "code",
      "source": [
        "plt.plot(hist_3.history['accuracy'])\n",
        "plt.plot(hist_3.history['val_accuracy'])\n",
        "plt.title('Model accuracy')\n",
        "plt.ylabel('Accuracy')\n",
        "plt.xlabel('Epoch')\n",
        "plt.legend(['Train', 'Val'], loc='lower right')\n",
        "plt.show()"
      ],
      "metadata": {
        "colab": {
          "base_uri": "https://localhost:8080/",
          "height": 295
        },
        "id": "IbG_dgY3uWZG",
        "outputId": "52893f3d-15ac-4566-f80d-281459dc219e"
      },
      "execution_count": 32,
      "outputs": [
        {
          "output_type": "display_data",
          "data": {
            "text/plain": [
              "<Figure size 432x288 with 1 Axes>"
            ],
            "image/png": "[encoded data removed]"
          },
          "metadata": {
            "needs_background": "light"
          }
        }
      ]
    }
  ]
}